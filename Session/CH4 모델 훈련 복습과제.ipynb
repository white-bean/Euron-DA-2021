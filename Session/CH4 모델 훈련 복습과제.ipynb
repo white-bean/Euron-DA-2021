{
 "cells": [
  {
   "cell_type": "markdown",
   "metadata": {
    "id": "NcbGF9cLOEx4"
   },
   "source": [
    "## 자전거 대여 수요 예측\n",
    "#### 2011년 1월부터 2012년 12월까지 날짜/시간, 기온, 습도, 풍속 등의 정보를 기반으로 1시간 간격 동안의 자전거 대여 횟수가 기재되어 있다."
   ]
  },
  {
   "cell_type": "markdown",
   "metadata": {
    "id": "VSyd8iPmQJW6"
   },
   "source": [
    "- datetime: hourly date + timestamp\n",
    "- season : 1=봄, 2=여름, 3=가을, 4=겨울\n",
    "- holiday : 1=토,일요일의 주말을 제외한 국경일 등의 휴일, 0=휴일이 아닌 날\n",
    "- workingday : 1=토,일요일의 주말 및 휴일이 아닌 주중, 0=주말 및 휴일\n",
    "- weather:\n",
    " - 1=맑음, 약간 구름 낀 흐림\n",
    " - 2=안개, 안개+흐림\n",
    " - 3=가벼운 눈, 가벼운 비+천둥\n",
    " - 4=심한 눈/비, 천둥/번개\n",
    "- temp : 온도 (섭씨)\n",
    "- atemp : 체감온도 (섭씨)\n",
    "- humidity : 상대습도\n",
    "- windspeed : 풍속\n",
    "- casual : 사전에 등록되지 않은 사용자가 대여한 횟수\n",
    "- registered : 사전에 등록된 사용자가 대여한 횟수\n",
    "- count : 대여 횟수"
   ]
  },
  {
   "cell_type": "markdown",
   "metadata": {
    "id": "PjCToU3AOctT"
   },
   "source": [
    "## 다음 코드는 복습과제를 하는데 있어 필요한 모듈입니다. 한 번 꼭 돌려주고 실습해 주세요."
   ]
  },
  {
   "cell_type": "code",
   "execution_count": 1,
   "metadata": {
    "id": "1HceGVIMOH5y"
   },
   "outputs": [],
   "source": [
    "import numpy as np\n",
    "import pandas as pd\n",
    "import seaborn as sns"
   ]
  },
  {
   "cell_type": "code",
   "execution_count": 2,
   "metadata": {
    "id": "7u29I2bZOnKh"
   },
   "outputs": [],
   "source": [
    "import warnings\n",
    "warnings.filterwarnings(\"ignore\",category=RuntimeWarning)"
   ]
  },
  {
   "cell_type": "markdown",
   "metadata": {
    "id": "oaNEaADiOqL0"
   },
   "source": [
    "## 1. 데이터 불러오기 및 전처리\n",
    "### (1) bikeshare.csv를 pandas를 이용해 bike_df의 이름으로 저장하고 행렬 개수와 5개의 자료를 뽑아보시오."
   ]
  },
  {
   "cell_type": "code",
   "execution_count": 34,
   "metadata": {
    "id": "9c85pnWqO2bY"
   },
   "outputs": [],
   "source": [
    "bike_df = pd.read_csv(\"bikeshare.csv\")"
   ]
  },
  {
   "cell_type": "code",
   "execution_count": 35,
   "metadata": {},
   "outputs": [
    {
     "data": {
      "text/plain": [
       "(10886, 12)"
      ]
     },
     "execution_count": 35,
     "metadata": {},
     "output_type": "execute_result"
    }
   ],
   "source": [
    "bike_df.shape"
   ]
  },
  {
   "cell_type": "code",
   "execution_count": 36,
   "metadata": {},
   "outputs": [
    {
     "data": {
      "text/html": [
       "<div>\n",
       "<style scoped>\n",
       "    .dataframe tbody tr th:only-of-type {\n",
       "        vertical-align: middle;\n",
       "    }\n",
       "\n",
       "    .dataframe tbody tr th {\n",
       "        vertical-align: top;\n",
       "    }\n",
       "\n",
       "    .dataframe thead th {\n",
       "        text-align: right;\n",
       "    }\n",
       "</style>\n",
       "<table border=\"1\" class=\"dataframe\">\n",
       "  <thead>\n",
       "    <tr style=\"text-align: right;\">\n",
       "      <th></th>\n",
       "      <th>datetime</th>\n",
       "      <th>season</th>\n",
       "      <th>holiday</th>\n",
       "      <th>workingday</th>\n",
       "      <th>weather</th>\n",
       "      <th>temp</th>\n",
       "      <th>atemp</th>\n",
       "      <th>humidity</th>\n",
       "      <th>windspeed</th>\n",
       "      <th>casual</th>\n",
       "      <th>registered</th>\n",
       "      <th>count</th>\n",
       "    </tr>\n",
       "  </thead>\n",
       "  <tbody>\n",
       "    <tr>\n",
       "      <th>0</th>\n",
       "      <td>2011-01-01 00:00:00</td>\n",
       "      <td>1</td>\n",
       "      <td>0</td>\n",
       "      <td>0</td>\n",
       "      <td>1</td>\n",
       "      <td>9.84</td>\n",
       "      <td>14.395</td>\n",
       "      <td>81</td>\n",
       "      <td>0.0</td>\n",
       "      <td>3</td>\n",
       "      <td>13</td>\n",
       "      <td>16</td>\n",
       "    </tr>\n",
       "    <tr>\n",
       "      <th>1</th>\n",
       "      <td>2011-01-01 01:00:00</td>\n",
       "      <td>1</td>\n",
       "      <td>0</td>\n",
       "      <td>0</td>\n",
       "      <td>1</td>\n",
       "      <td>9.02</td>\n",
       "      <td>13.635</td>\n",
       "      <td>80</td>\n",
       "      <td>0.0</td>\n",
       "      <td>8</td>\n",
       "      <td>32</td>\n",
       "      <td>40</td>\n",
       "    </tr>\n",
       "    <tr>\n",
       "      <th>2</th>\n",
       "      <td>2011-01-01 02:00:00</td>\n",
       "      <td>1</td>\n",
       "      <td>0</td>\n",
       "      <td>0</td>\n",
       "      <td>1</td>\n",
       "      <td>9.02</td>\n",
       "      <td>13.635</td>\n",
       "      <td>80</td>\n",
       "      <td>0.0</td>\n",
       "      <td>5</td>\n",
       "      <td>27</td>\n",
       "      <td>32</td>\n",
       "    </tr>\n",
       "    <tr>\n",
       "      <th>3</th>\n",
       "      <td>2011-01-01 03:00:00</td>\n",
       "      <td>1</td>\n",
       "      <td>0</td>\n",
       "      <td>0</td>\n",
       "      <td>1</td>\n",
       "      <td>9.84</td>\n",
       "      <td>14.395</td>\n",
       "      <td>75</td>\n",
       "      <td>0.0</td>\n",
       "      <td>3</td>\n",
       "      <td>10</td>\n",
       "      <td>13</td>\n",
       "    </tr>\n",
       "    <tr>\n",
       "      <th>4</th>\n",
       "      <td>2011-01-01 04:00:00</td>\n",
       "      <td>1</td>\n",
       "      <td>0</td>\n",
       "      <td>0</td>\n",
       "      <td>1</td>\n",
       "      <td>9.84</td>\n",
       "      <td>14.395</td>\n",
       "      <td>75</td>\n",
       "      <td>0.0</td>\n",
       "      <td>0</td>\n",
       "      <td>1</td>\n",
       "      <td>1</td>\n",
       "    </tr>\n",
       "  </tbody>\n",
       "</table>\n",
       "</div>"
      ],
      "text/plain": [
       "              datetime  season  holiday  workingday  weather  temp   atemp  \\\n",
       "0  2011-01-01 00:00:00       1        0           0        1  9.84  14.395   \n",
       "1  2011-01-01 01:00:00       1        0           0        1  9.02  13.635   \n",
       "2  2011-01-01 02:00:00       1        0           0        1  9.02  13.635   \n",
       "3  2011-01-01 03:00:00       1        0           0        1  9.84  14.395   \n",
       "4  2011-01-01 04:00:00       1        0           0        1  9.84  14.395   \n",
       "\n",
       "   humidity  windspeed  casual  registered  count  \n",
       "0        81        0.0       3          13     16  \n",
       "1        80        0.0       8          32     40  \n",
       "2        80        0.0       5          27     32  \n",
       "3        75        0.0       3          10     13  \n",
       "4        75        0.0       0           1      1  "
      ]
     },
     "execution_count": 36,
     "metadata": {},
     "output_type": "execute_result"
    }
   ],
   "source": [
    "bike_df.head()"
   ]
  },
  {
   "cell_type": "markdown",
   "metadata": {
    "id": "iExzbmpdO5jL"
   },
   "source": [
    "### (2) bike_df에서 항목별 데이터 타입을 확인하는 코드를 작성하시오."
   ]
  },
  {
   "cell_type": "code",
   "execution_count": 37,
   "metadata": {
    "id": "8rhrqPWbO3-4"
   },
   "outputs": [
    {
     "name": "stdout",
     "output_type": "stream",
     "text": [
      "<class 'pandas.core.frame.DataFrame'>\n",
      "RangeIndex: 10886 entries, 0 to 10885\n",
      "Data columns (total 12 columns):\n",
      " #   Column      Non-Null Count  Dtype  \n",
      "---  ------      --------------  -----  \n",
      " 0   datetime    10886 non-null  object \n",
      " 1   season      10886 non-null  int64  \n",
      " 2   holiday     10886 non-null  int64  \n",
      " 3   workingday  10886 non-null  int64  \n",
      " 4   weather     10886 non-null  int64  \n",
      " 5   temp        10886 non-null  float64\n",
      " 6   atemp       10886 non-null  float64\n",
      " 7   humidity    10886 non-null  int64  \n",
      " 8   windspeed   10886 non-null  float64\n",
      " 9   casual      10886 non-null  int64  \n",
      " 10  registered  10886 non-null  int64  \n",
      " 11  count       10886 non-null  int64  \n",
      "dtypes: float64(3), int64(8), object(1)\n",
      "memory usage: 1020.7+ KB\n"
     ]
    }
   ],
   "source": [
    "bike_df.info()"
   ]
  },
  {
   "cell_type": "markdown",
   "metadata": {
    "id": "DULP9knlPAOq"
   },
   "source": [
    "### (3) pandas를 이용해 datetime의 칼럼을 년, 월, 일, 시간과 같은 4개의 속성으로 분리하시오.\n",
    "- 판다스에서 문자열을 datatime 타입으로 변환하는 apply(pd.to_datetime) 메서드를 이용해 datetime이라는 이름의 새로운 칼럼을 만드시오."
   ]
  },
  {
   "cell_type": "code",
   "execution_count": 38,
   "metadata": {
    "id": "BsjYd3j1PCkx"
   },
   "outputs": [],
   "source": [
    "bike_df[\"datetime\"] = bike_df[\"datetime\"].apply(pd.to_datetime)"
   ]
  },
  {
   "cell_type": "code",
   "execution_count": 39,
   "metadata": {},
   "outputs": [
    {
     "name": "stdout",
     "output_type": "stream",
     "text": [
      "<class 'pandas.core.frame.DataFrame'>\n",
      "RangeIndex: 10886 entries, 0 to 10885\n",
      "Data columns (total 12 columns):\n",
      " #   Column      Non-Null Count  Dtype         \n",
      "---  ------      --------------  -----         \n",
      " 0   datetime    10886 non-null  datetime64[ns]\n",
      " 1   season      10886 non-null  int64         \n",
      " 2   holiday     10886 non-null  int64         \n",
      " 3   workingday  10886 non-null  int64         \n",
      " 4   weather     10886 non-null  int64         \n",
      " 5   temp        10886 non-null  float64       \n",
      " 6   atemp       10886 non-null  float64       \n",
      " 7   humidity    10886 non-null  int64         \n",
      " 8   windspeed   10886 non-null  float64       \n",
      " 9   casual      10886 non-null  int64         \n",
      " 10  registered  10886 non-null  int64         \n",
      " 11  count       10886 non-null  int64         \n",
      "dtypes: datetime64[ns](1), float64(3), int64(8)\n",
      "memory usage: 1020.7 KB\n"
     ]
    }
   ],
   "source": [
    "bike_df.info()"
   ]
  },
  {
   "cell_type": "markdown",
   "metadata": {
    "id": "e3qfxV2fPECo"
   },
   "source": [
    "- apply() 함수와 lambda를 이용해 새로운 datetime 칼럼에서 년, 월, 일, 시간 칼럼을 새로 만드시오."
   ]
  },
  {
   "cell_type": "code",
   "execution_count": 40,
   "metadata": {
    "id": "06HbBKQLPF-a"
   },
   "outputs": [],
   "source": [
    "bike_df[\"year\"] = bike_df[\"datetime\"].apply(lambda x: x.year)\n",
    "bike_df[\"month\"] = bike_df[\"datetime\"].apply(lambda x: x.month)\n",
    "bike_df[\"day\"] = bike_df[\"datetime\"].apply(lambda x: x.day)\n",
    "bike_df[\"hour\"] = bike_df[\"datetime\"].apply(lambda x: x.time())"
   ]
  },
  {
   "cell_type": "markdown",
   "metadata": {
    "id": "Oa1E-sxdPH6x"
   },
   "source": [
    "- 3개의 bike_df를 뽑아 제대로 칼럼들이 생성되었는지 확인하시오."
   ]
  },
  {
   "cell_type": "code",
   "execution_count": 41,
   "metadata": {
    "id": "H6dogk4LPMNL"
   },
   "outputs": [
    {
     "data": {
      "text/html": [
       "<div>\n",
       "<style scoped>\n",
       "    .dataframe tbody tr th:only-of-type {\n",
       "        vertical-align: middle;\n",
       "    }\n",
       "\n",
       "    .dataframe tbody tr th {\n",
       "        vertical-align: top;\n",
       "    }\n",
       "\n",
       "    .dataframe thead th {\n",
       "        text-align: right;\n",
       "    }\n",
       "</style>\n",
       "<table border=\"1\" class=\"dataframe\">\n",
       "  <thead>\n",
       "    <tr style=\"text-align: right;\">\n",
       "      <th></th>\n",
       "      <th>datetime</th>\n",
       "      <th>season</th>\n",
       "      <th>holiday</th>\n",
       "      <th>workingday</th>\n",
       "      <th>weather</th>\n",
       "      <th>temp</th>\n",
       "      <th>atemp</th>\n",
       "      <th>humidity</th>\n",
       "      <th>windspeed</th>\n",
       "      <th>casual</th>\n",
       "      <th>registered</th>\n",
       "      <th>count</th>\n",
       "      <th>year</th>\n",
       "      <th>month</th>\n",
       "      <th>day</th>\n",
       "      <th>hour</th>\n",
       "    </tr>\n",
       "  </thead>\n",
       "  <tbody>\n",
       "    <tr>\n",
       "      <th>0</th>\n",
       "      <td>2011-01-01 00:00:00</td>\n",
       "      <td>1</td>\n",
       "      <td>0</td>\n",
       "      <td>0</td>\n",
       "      <td>1</td>\n",
       "      <td>9.84</td>\n",
       "      <td>14.395</td>\n",
       "      <td>81</td>\n",
       "      <td>0.0</td>\n",
       "      <td>3</td>\n",
       "      <td>13</td>\n",
       "      <td>16</td>\n",
       "      <td>2011</td>\n",
       "      <td>1</td>\n",
       "      <td>1</td>\n",
       "      <td>00:00:00</td>\n",
       "    </tr>\n",
       "    <tr>\n",
       "      <th>1</th>\n",
       "      <td>2011-01-01 01:00:00</td>\n",
       "      <td>1</td>\n",
       "      <td>0</td>\n",
       "      <td>0</td>\n",
       "      <td>1</td>\n",
       "      <td>9.02</td>\n",
       "      <td>13.635</td>\n",
       "      <td>80</td>\n",
       "      <td>0.0</td>\n",
       "      <td>8</td>\n",
       "      <td>32</td>\n",
       "      <td>40</td>\n",
       "      <td>2011</td>\n",
       "      <td>1</td>\n",
       "      <td>1</td>\n",
       "      <td>01:00:00</td>\n",
       "    </tr>\n",
       "    <tr>\n",
       "      <th>2</th>\n",
       "      <td>2011-01-01 02:00:00</td>\n",
       "      <td>1</td>\n",
       "      <td>0</td>\n",
       "      <td>0</td>\n",
       "      <td>1</td>\n",
       "      <td>9.02</td>\n",
       "      <td>13.635</td>\n",
       "      <td>80</td>\n",
       "      <td>0.0</td>\n",
       "      <td>5</td>\n",
       "      <td>27</td>\n",
       "      <td>32</td>\n",
       "      <td>2011</td>\n",
       "      <td>1</td>\n",
       "      <td>1</td>\n",
       "      <td>02:00:00</td>\n",
       "    </tr>\n",
       "  </tbody>\n",
       "</table>\n",
       "</div>"
      ],
      "text/plain": [
       "             datetime  season  holiday  workingday  weather  temp   atemp  \\\n",
       "0 2011-01-01 00:00:00       1        0           0        1  9.84  14.395   \n",
       "1 2011-01-01 01:00:00       1        0           0        1  9.02  13.635   \n",
       "2 2011-01-01 02:00:00       1        0           0        1  9.02  13.635   \n",
       "\n",
       "   humidity  windspeed  casual  registered  count  year  month  day      hour  \n",
       "0        81        0.0       3          13     16  2011      1    1  00:00:00  \n",
       "1        80        0.0       8          32     40  2011      1    1  01:00:00  \n",
       "2        80        0.0       5          27     32  2011      1    1  02:00:00  "
      ]
     },
     "execution_count": 41,
     "metadata": {},
     "output_type": "execute_result"
    }
   ],
   "source": [
    "bike_df.head(3)"
   ]
  },
  {
   "cell_type": "markdown",
   "metadata": {
    "id": "GCv9GMlqPOQi"
   },
   "source": [
    "* datatime, causal, registered 칼럼을 삭제 하시오.(casual + registered = count이므로 따로 필요하지 않습니다.) "
   ]
  },
  {
   "cell_type": "code",
   "execution_count": 42,
   "metadata": {
    "id": "R4u3x1SUxWCE"
   },
   "outputs": [],
   "source": [
    "bike_df.drop([\"datetime\", \"casual\", \"registered\"], axis=1, inplace=True)"
   ]
  },
  {
   "cell_type": "code",
   "execution_count": 43,
   "metadata": {},
   "outputs": [
    {
     "data": {
      "text/html": [
       "<div>\n",
       "<style scoped>\n",
       "    .dataframe tbody tr th:only-of-type {\n",
       "        vertical-align: middle;\n",
       "    }\n",
       "\n",
       "    .dataframe tbody tr th {\n",
       "        vertical-align: top;\n",
       "    }\n",
       "\n",
       "    .dataframe thead th {\n",
       "        text-align: right;\n",
       "    }\n",
       "</style>\n",
       "<table border=\"1\" class=\"dataframe\">\n",
       "  <thead>\n",
       "    <tr style=\"text-align: right;\">\n",
       "      <th></th>\n",
       "      <th>season</th>\n",
       "      <th>holiday</th>\n",
       "      <th>workingday</th>\n",
       "      <th>weather</th>\n",
       "      <th>temp</th>\n",
       "      <th>atemp</th>\n",
       "      <th>humidity</th>\n",
       "      <th>windspeed</th>\n",
       "      <th>count</th>\n",
       "      <th>year</th>\n",
       "      <th>month</th>\n",
       "      <th>day</th>\n",
       "      <th>hour</th>\n",
       "    </tr>\n",
       "  </thead>\n",
       "  <tbody>\n",
       "    <tr>\n",
       "      <th>0</th>\n",
       "      <td>1</td>\n",
       "      <td>0</td>\n",
       "      <td>0</td>\n",
       "      <td>1</td>\n",
       "      <td>9.84</td>\n",
       "      <td>14.395</td>\n",
       "      <td>81</td>\n",
       "      <td>0.0</td>\n",
       "      <td>16</td>\n",
       "      <td>2011</td>\n",
       "      <td>1</td>\n",
       "      <td>1</td>\n",
       "      <td>00:00:00</td>\n",
       "    </tr>\n",
       "    <tr>\n",
       "      <th>1</th>\n",
       "      <td>1</td>\n",
       "      <td>0</td>\n",
       "      <td>0</td>\n",
       "      <td>1</td>\n",
       "      <td>9.02</td>\n",
       "      <td>13.635</td>\n",
       "      <td>80</td>\n",
       "      <td>0.0</td>\n",
       "      <td>40</td>\n",
       "      <td>2011</td>\n",
       "      <td>1</td>\n",
       "      <td>1</td>\n",
       "      <td>01:00:00</td>\n",
       "    </tr>\n",
       "    <tr>\n",
       "      <th>2</th>\n",
       "      <td>1</td>\n",
       "      <td>0</td>\n",
       "      <td>0</td>\n",
       "      <td>1</td>\n",
       "      <td>9.02</td>\n",
       "      <td>13.635</td>\n",
       "      <td>80</td>\n",
       "      <td>0.0</td>\n",
       "      <td>32</td>\n",
       "      <td>2011</td>\n",
       "      <td>1</td>\n",
       "      <td>1</td>\n",
       "      <td>02:00:00</td>\n",
       "    </tr>\n",
       "    <tr>\n",
       "      <th>3</th>\n",
       "      <td>1</td>\n",
       "      <td>0</td>\n",
       "      <td>0</td>\n",
       "      <td>1</td>\n",
       "      <td>9.84</td>\n",
       "      <td>14.395</td>\n",
       "      <td>75</td>\n",
       "      <td>0.0</td>\n",
       "      <td>13</td>\n",
       "      <td>2011</td>\n",
       "      <td>1</td>\n",
       "      <td>1</td>\n",
       "      <td>03:00:00</td>\n",
       "    </tr>\n",
       "    <tr>\n",
       "      <th>4</th>\n",
       "      <td>1</td>\n",
       "      <td>0</td>\n",
       "      <td>0</td>\n",
       "      <td>1</td>\n",
       "      <td>9.84</td>\n",
       "      <td>14.395</td>\n",
       "      <td>75</td>\n",
       "      <td>0.0</td>\n",
       "      <td>1</td>\n",
       "      <td>2011</td>\n",
       "      <td>1</td>\n",
       "      <td>1</td>\n",
       "      <td>04:00:00</td>\n",
       "    </tr>\n",
       "  </tbody>\n",
       "</table>\n",
       "</div>"
      ],
      "text/plain": [
       "   season  holiday  workingday  weather  temp   atemp  humidity  windspeed  \\\n",
       "0       1        0           0        1  9.84  14.395        81        0.0   \n",
       "1       1        0           0        1  9.02  13.635        80        0.0   \n",
       "2       1        0           0        1  9.02  13.635        80        0.0   \n",
       "3       1        0           0        1  9.84  14.395        75        0.0   \n",
       "4       1        0           0        1  9.84  14.395        75        0.0   \n",
       "\n",
       "   count  year  month  day      hour  \n",
       "0     16  2011      1    1  00:00:00  \n",
       "1     40  2011      1    1  01:00:00  \n",
       "2     32  2011      1    1  02:00:00  \n",
       "3     13  2011      1    1  03:00:00  \n",
       "4      1  2011      1    1  04:00:00  "
      ]
     },
     "execution_count": 43,
     "metadata": {},
     "output_type": "execute_result"
    }
   ],
   "source": [
    "bike_df.head()"
   ]
  },
  {
   "cell_type": "markdown",
   "metadata": {
    "id": "fs6ydwmixm7j"
   },
   "source": [
    "## 2. 선형 회귀 실습하기"
   ]
  },
  {
   "cell_type": "markdown",
   "metadata": {
    "id": "mvMkLBZGxgA4"
   },
   "source": [
    "### (1) X_fearues와 y_target이라는 이름으로 독립변수와 종속변수를 분리하시오. (종속변수 = count)"
   ]
  },
  {
   "cell_type": "code",
   "execution_count": 44,
   "metadata": {
    "id": "4W2zDDmgPPiN"
   },
   "outputs": [],
   "source": [
    "y_target=bike_df[\"count\"]"
   ]
  },
  {
   "cell_type": "code",
   "execution_count": 45,
   "metadata": {},
   "outputs": [],
   "source": [
    "X_features = bike_df.drop([\"count\"], axis=1)"
   ]
  },
  {
   "cell_type": "markdown",
   "metadata": {
    "id": "GshNGjpcPRCe"
   },
   "source": [
    "### (2) 숫자형 카테고리 값을 pandas의 get_dummies를 이용해 원-핫 인코딩하시오.\n",
    "- 현재 데이터타입이 숫자형 카테고리인 칼럼은 year,month,day,hour,holiday,workingday,season,weather 입니다.\n",
    "- X_features_ohe란 이름에 저장하세요."
   ]
  },
  {
   "cell_type": "code",
   "execution_count": 48,
   "metadata": {
    "id": "ScG-en2ZPTOe"
   },
   "outputs": [],
   "source": [
    "X_features_ohe = pd.get_dummies(X_features, columns=[\"year\", \"month\", \"day\", \"hour\",\n",
    "                                           \"holiday\", \"workingday\", \"season\",\n",
    "                                           \"weather\"])"
   ]
  },
  {
   "cell_type": "code",
   "execution_count": 49,
   "metadata": {},
   "outputs": [
    {
     "data": {
      "text/html": [
       "<div>\n",
       "<style scoped>\n",
       "    .dataframe tbody tr th:only-of-type {\n",
       "        vertical-align: middle;\n",
       "    }\n",
       "\n",
       "    .dataframe tbody tr th {\n",
       "        vertical-align: top;\n",
       "    }\n",
       "\n",
       "    .dataframe thead th {\n",
       "        text-align: right;\n",
       "    }\n",
       "</style>\n",
       "<table border=\"1\" class=\"dataframe\">\n",
       "  <thead>\n",
       "    <tr style=\"text-align: right;\">\n",
       "      <th></th>\n",
       "      <th>temp</th>\n",
       "      <th>atemp</th>\n",
       "      <th>humidity</th>\n",
       "      <th>windspeed</th>\n",
       "      <th>year_2011</th>\n",
       "      <th>year_2012</th>\n",
       "      <th>month_1</th>\n",
       "      <th>month_2</th>\n",
       "      <th>month_3</th>\n",
       "      <th>month_4</th>\n",
       "      <th>...</th>\n",
       "      <th>workingday_0</th>\n",
       "      <th>workingday_1</th>\n",
       "      <th>season_1</th>\n",
       "      <th>season_2</th>\n",
       "      <th>season_3</th>\n",
       "      <th>season_4</th>\n",
       "      <th>weather_1</th>\n",
       "      <th>weather_2</th>\n",
       "      <th>weather_3</th>\n",
       "      <th>weather_4</th>\n",
       "    </tr>\n",
       "  </thead>\n",
       "  <tbody>\n",
       "    <tr>\n",
       "      <th>0</th>\n",
       "      <td>9.84</td>\n",
       "      <td>14.395</td>\n",
       "      <td>81</td>\n",
       "      <td>0.0</td>\n",
       "      <td>1</td>\n",
       "      <td>0</td>\n",
       "      <td>1</td>\n",
       "      <td>0</td>\n",
       "      <td>0</td>\n",
       "      <td>0</td>\n",
       "      <td>...</td>\n",
       "      <td>1</td>\n",
       "      <td>0</td>\n",
       "      <td>1</td>\n",
       "      <td>0</td>\n",
       "      <td>0</td>\n",
       "      <td>0</td>\n",
       "      <td>1</td>\n",
       "      <td>0</td>\n",
       "      <td>0</td>\n",
       "      <td>0</td>\n",
       "    </tr>\n",
       "    <tr>\n",
       "      <th>1</th>\n",
       "      <td>9.02</td>\n",
       "      <td>13.635</td>\n",
       "      <td>80</td>\n",
       "      <td>0.0</td>\n",
       "      <td>1</td>\n",
       "      <td>0</td>\n",
       "      <td>1</td>\n",
       "      <td>0</td>\n",
       "      <td>0</td>\n",
       "      <td>0</td>\n",
       "      <td>...</td>\n",
       "      <td>1</td>\n",
       "      <td>0</td>\n",
       "      <td>1</td>\n",
       "      <td>0</td>\n",
       "      <td>0</td>\n",
       "      <td>0</td>\n",
       "      <td>1</td>\n",
       "      <td>0</td>\n",
       "      <td>0</td>\n",
       "      <td>0</td>\n",
       "    </tr>\n",
       "    <tr>\n",
       "      <th>2</th>\n",
       "      <td>9.02</td>\n",
       "      <td>13.635</td>\n",
       "      <td>80</td>\n",
       "      <td>0.0</td>\n",
       "      <td>1</td>\n",
       "      <td>0</td>\n",
       "      <td>1</td>\n",
       "      <td>0</td>\n",
       "      <td>0</td>\n",
       "      <td>0</td>\n",
       "      <td>...</td>\n",
       "      <td>1</td>\n",
       "      <td>0</td>\n",
       "      <td>1</td>\n",
       "      <td>0</td>\n",
       "      <td>0</td>\n",
       "      <td>0</td>\n",
       "      <td>1</td>\n",
       "      <td>0</td>\n",
       "      <td>0</td>\n",
       "      <td>0</td>\n",
       "    </tr>\n",
       "  </tbody>\n",
       "</table>\n",
       "<p>3 rows × 73 columns</p>\n",
       "</div>"
      ],
      "text/plain": [
       "   temp   atemp  humidity  windspeed  year_2011  year_2012  month_1  month_2  \\\n",
       "0  9.84  14.395        81        0.0          1          0        1        0   \n",
       "1  9.02  13.635        80        0.0          1          0        1        0   \n",
       "2  9.02  13.635        80        0.0          1          0        1        0   \n",
       "\n",
       "   month_3  month_4  ...  workingday_0  workingday_1  season_1  season_2  \\\n",
       "0        0        0  ...             1             0         1         0   \n",
       "1        0        0  ...             1             0         1         0   \n",
       "2        0        0  ...             1             0         1         0   \n",
       "\n",
       "   season_3  season_4  weather_1  weather_2  weather_3  weather_4  \n",
       "0         0         0          1          0          0          0  \n",
       "1         0         0          1          0          0          0  \n",
       "2         0         0          1          0          0          0  \n",
       "\n",
       "[3 rows x 73 columns]"
      ]
     },
     "execution_count": 49,
     "metadata": {},
     "output_type": "execute_result"
    }
   ],
   "source": [
    "X_features_ohe.head(3)"
   ]
  },
  {
   "cell_type": "markdown",
   "metadata": {
    "id": "rRE-R3-BPavh"
   },
   "source": [
    "### (3) 사이킷런에서 train_test_split을 이용해 훈련세트와 테스트 세트를 분리하시오.\n",
    "- 이때 종속변수는 count 칼럼이고 독립변수는 종속변수 이외의 모든 칼럼입니다.\n",
    "- X_train,X_test,y_train,y_test 이란 이름으로 세트를 만들고 test_size=0.3,random_state=0 이라는 옵션 추가하세요."
   ]
  },
  {
   "cell_type": "code",
   "execution_count": 51,
   "metadata": {},
   "outputs": [],
   "source": [
    "from sklearn.model_selection import train_test_split"
   ]
  },
  {
   "cell_type": "code",
   "execution_count": 101,
   "metadata": {
    "id": "mdkgLuWAPc_z"
   },
   "outputs": [],
   "source": [
    "X_train, X_test, y_train, y_test = train_test_split(X_features_ohe, y_target, test_size=0.3, random_state=0)"
   ]
  },
  {
   "cell_type": "markdown",
   "metadata": {
    "id": "EjFAOR46PgGG"
   },
   "source": [
    "### (4) 회귀 종류별로 실습"
   ]
  },
  {
   "cell_type": "markdown",
   "metadata": {
    "id": "GwcIR3ktPrWV"
   },
   "source": [
    "#### i. 선형 회귀\n",
    "- 사이킷런에서 LinearRegression 을 불러와 fit한 후 X_test를 예측하여 pred란 이름에 저장하시오.\n",
    "- 사이킷런에서의 mean_square_error과 np.sqrt()를 이용해 y_test와 pred의 RMSE를 출력하시오.\n",
    "- 이 모델의 intercept와 coefficient를 출력하시오."
   ]
  },
  {
   "cell_type": "code",
   "execution_count": 53,
   "metadata": {
    "id": "veiZQdqoPsk-"
   },
   "outputs": [],
   "source": [
    "from sklearn.linear_model import LinearRegression\n",
    "from sklearn.metrics import mean_squared_error\n"
   ]
  },
  {
   "cell_type": "code",
   "execution_count": 102,
   "metadata": {
    "id": "5Ns3diCfPujP"
   },
   "outputs": [
    {
     "data": {
      "text/plain": [
       "LinearRegression()"
      ]
     },
     "execution_count": 102,
     "metadata": {},
     "output_type": "execute_result"
    }
   ],
   "source": [
    "lr=LinearRegression()\n",
    "lr.fit(X_train, y_train)"
   ]
  },
  {
   "cell_type": "code",
   "execution_count": 103,
   "metadata": {},
   "outputs": [],
   "source": [
    "pred = lr.predict(X_test)"
   ]
  },
  {
   "cell_type": "code",
   "execution_count": 104,
   "metadata": {},
   "outputs": [
    {
     "name": "stdout",
     "output_type": "stream",
     "text": [
      "101.62065303398097\n"
     ]
    }
   ],
   "source": [
    "mse = mean_squared_error(y_test, pred)\n",
    "rmse=np.sqrt(mse)\n",
    "print(rmse)"
   ]
  },
  {
   "cell_type": "code",
   "execution_count": 105,
   "metadata": {},
   "outputs": [
    {
     "name": "stdout",
     "output_type": "stream",
     "text": [
      "5743105250797.401\n",
      "[ 2.77018234e+00  1.85723439e+00 -8.03641049e-01 -7.33366667e-01\n",
      " -6.60101149e+12 -6.60101149e+12  1.66930324e+12  1.66930324e+12\n",
      "  1.66930324e+12  1.43409386e+12  1.43409386e+12  1.43409386e+12\n",
      "  2.23362092e+12  2.23362092e+12  2.23362092e+12 -3.16042601e+10\n",
      " -3.16042601e+10 -3.16042601e+10 -1.17931798e+11 -1.17931798e+11\n",
      " -1.17931798e+11 -1.17931798e+11 -1.17931798e+11 -1.17931798e+11\n",
      " -1.17931798e+11 -1.17931798e+11 -1.17931798e+11 -1.17931798e+11\n",
      " -1.17931798e+11 -1.17931798e+11 -1.17931798e+11 -1.17931798e+11\n",
      " -1.17931798e+11 -1.17931798e+11 -1.17931798e+11 -1.17931798e+11\n",
      " -1.17931798e+11 -1.10989964e+11 -1.10989964e+11 -1.10989964e+11\n",
      " -1.10989964e+11 -1.10989964e+11 -1.10989964e+11 -1.10989964e+11\n",
      " -1.10989964e+11 -1.10989964e+11 -1.10989964e+11 -1.10989964e+11\n",
      " -1.10989964e+11 -1.10989964e+11 -1.10989964e+11 -1.10989964e+11\n",
      " -1.10989964e+11 -1.10989964e+11 -1.10989963e+11 -1.10989963e+11\n",
      " -1.10989964e+11 -1.10989964e+11 -1.10989964e+11 -1.10989964e+11\n",
      " -1.10989964e+11  1.86362119e+11  1.86362119e+11 -4.37652445e+08\n",
      " -4.37652441e+08 -6.53546727e+11 -4.18337344e+11 -1.21786440e+12\n",
      "  1.04736077e+12 -1.14852983e+11 -1.14852983e+11 -1.14852983e+11\n",
      " -1.14852983e+11]\n"
     ]
    }
   ],
   "source": [
    "print(lr.intercept_)\n",
    "print(lr.coef_)"
   ]
  },
  {
   "cell_type": "markdown",
   "metadata": {
    "id": "8N_okIw4Px9I"
   },
   "source": [
    "#### ii. 확률적 경사 하강법을 이용한 선형 회귀\n",
    "- 사이킷런에서 제공하는 SGDRegressor을 이용해 위와 같은 과정을 반복하시오.\n",
    "- 이때 max_iter=1000,tol=1e-3,penalty=None,eta0=0.1 인 옵션을 추가하시오."
   ]
  },
  {
   "cell_type": "code",
   "execution_count": 66,
   "metadata": {
    "id": "dhBkaaVKPzLB"
   },
   "outputs": [],
   "source": [
    "from sklearn.linear_model import SGDRegressor\n"
   ]
  },
  {
   "cell_type": "code",
   "execution_count": 67,
   "metadata": {
    "id": "39u87I5eP07T"
   },
   "outputs": [
    {
     "data": {
      "text/plain": [
       "SGDRegressor(eta0=0.1, penalty=None)"
      ]
     },
     "execution_count": 67,
     "metadata": {},
     "output_type": "execute_result"
    }
   ],
   "source": [
    "sgd_reg = SGDRegressor(max_iter=1000, tol=1e-3, penalty=None, eta0=0.1)\n",
    "sgd_reg.fit(X_train, y_train)"
   ]
  },
  {
   "cell_type": "code",
   "execution_count": 69,
   "metadata": {},
   "outputs": [],
   "source": [
    "pred2 = sgd_reg.predict(X_test)"
   ]
  },
  {
   "cell_type": "code",
   "execution_count": 73,
   "metadata": {},
   "outputs": [
    {
     "name": "stdout",
     "output_type": "stream",
     "text": [
      "4208181879123.9507\n"
     ]
    }
   ],
   "source": [
    "mse = mean_squared_error(y_test, pred2)\n",
    "rmse=np.sqrt(mse)\n",
    "print(rmse)"
   ]
  },
  {
   "cell_type": "code",
   "execution_count": 74,
   "metadata": {},
   "outputs": [
    {
     "data": {
      "text/plain": [
       "(array([-1.68629336e+10]),\n",
       " array([-1.22079724e+11, -1.15605678e+10, -5.09536996e+08, -7.91477630e+10,\n",
       "         1.19165580e+11, -1.36028514e+11, -1.97436680e+08,  1.06097503e+11,\n",
       "         1.96716232e+10, -6.66493618e+10,  1.64539998e+11, -2.17835944e+10,\n",
       "        -1.22508596e+11,  8.82845458e+10, -1.25400914e+11, -6.00516444e+10,\n",
       "         3.89652243e+10, -3.78302802e+10,  6.22812483e+10, -1.84391942e+09,\n",
       "        -6.58683274e+10,  1.92069353e+11,  1.61465485e+11,  1.74267127e+11,\n",
       "        -1.94449111e+10, -7.10660585e+10, -1.71990171e+11, -2.15690244e+11,\n",
       "         1.00922522e+11,  5.03106008e+10, -2.94017817e+10, -1.97879686e+11,\n",
       "        -1.11928469e+10, -4.77878784e+10,  1.01540491e+10,  3.64643707e+10,\n",
       "         2.73681347e+10,  1.80772949e+10,  4.66082348e+10,  7.00993066e+10,\n",
       "         5.40958777e+10, -1.53486655e+11, -4.92512719e+10,  5.44731223e+10,\n",
       "        -1.16964407e+11, -3.74127104e+10, -4.77555078e+10, -6.32940455e+10,\n",
       "        -3.32775281e+10,  2.77817953e+10,  5.75308144e+10,  1.16874620e+11,\n",
       "        -2.45345618e+11,  7.91729389e+10,  1.72193185e+11, -2.01733412e+10,\n",
       "         7.68035095e+10, -1.01940128e+11,  8.78670547e+10, -9.49730684e+10,\n",
       "         8.54335952e+10, -4.55051663e+10,  2.86422327e+10, -2.08490341e+09,\n",
       "        -1.47780301e+10,  1.25571690e+11,  7.61070420e+10, -1.59624965e+11,\n",
       "        -5.89167003e+10, -2.03777963e+11,  1.33982985e+11,  7.37055472e+10,\n",
       "        -2.07735025e+10]))"
      ]
     },
     "execution_count": 74,
     "metadata": {},
     "output_type": "execute_result"
    }
   ],
   "source": [
    "sgd_reg.intercept_, sgd_reg.coef_"
   ]
  },
  {
   "cell_type": "markdown",
   "metadata": {
    "id": "rydt3PbzP2qk"
   },
   "source": [
    "#### iv. 라쏘와 릿지\n",
    "- 위와 같은 방식대로 사이킷런에서 Ridge와 Lasso를 불러와 RMSE를 출력하시오.\n",
    "- 각각의 intercept, coefficient를 출력하시오.\n",
    "- Ridge와 Lasso에서 alpha=0.1 이라는 옵션을 추가하시오."
   ]
  },
  {
   "cell_type": "code",
   "execution_count": 75,
   "metadata": {
    "id": "2Y8pSa2iP4qX"
   },
   "outputs": [],
   "source": [
    "from sklearn.linear_model import Ridge, Lasso\n"
   ]
  },
  {
   "cell_type": "code",
   "execution_count": 76,
   "metadata": {
    "id": "qdqr0ErZP6S2"
   },
   "outputs": [
    {
     "name": "stdout",
     "output_type": "stream",
     "text": [
      "101.61963796032045\n"
     ]
    }
   ],
   "source": [
    "ridge_reg = Ridge(alpha=0.1)\n",
    "ridge_reg.fit(X_train, y_train)\n",
    "pred_r = ridge_reg.predict(X_test)\n",
    "mse = mean_squared_error(y_test, pred_r)\n",
    "rmse = np.sqrt(mse)\n",
    "print(rmse)"
   ]
  },
  {
   "cell_type": "code",
   "execution_count": 77,
   "metadata": {
    "id": "2y1qie8-P8Pp"
   },
   "outputs": [
    {
     "data": {
      "text/plain": [
       "(93.59951479933258,\n",
       " array([ 2.77635084e+00,  1.85638810e+00, -8.04848466e-01, -7.32755619e-01,\n",
       "        -4.30350512e+01,  4.30350512e+01, -2.78809868e+01, -1.12490848e+01,\n",
       "         6.11830405e+00, -9.97383401e+00,  1.52190326e+01,  2.91904860e+00,\n",
       "        -1.08898027e+01, -1.00814072e+01,  2.46162001e+01,  2.21827929e+01,\n",
       "         1.88035315e-01, -1.16829806e+00, -9.80464362e+00, -2.81919690e+00,\n",
       "         1.30083731e+00,  8.68240255e-01,  2.18864828e+00,  4.24340314e-01,\n",
       "        -7.62089700e+00, -9.53377117e+00,  7.17480447e-02,  1.02674291e+00,\n",
       "         2.07627610e+00, -5.06884674e+00,  2.13600282e+00,  2.81138083e+00,\n",
       "         6.74384093e+00,  2.20615475e+00,  1.81487720e+01, -6.33769375e+00,\n",
       "         1.18206464e+00, -1.24689439e+02, -1.45447914e+02, -1.59260535e+02,\n",
       "        -1.66295508e+02, -1.68110470e+02, -1.49564140e+02, -9.42788975e+01,\n",
       "         4.05901985e+01,  1.92968022e+02,  4.08782973e+01, -1.66084925e+01,\n",
       "         5.55252726e+00,  5.22344891e+01,  4.69859712e+01,  3.27454723e+01,\n",
       "         3.70039430e+01,  1.00703846e+02,  2.62609572e+02,  2.28766863e+02,\n",
       "         1.14486639e+02,  3.37795043e+01, -1.94352514e+01, -5.31216020e+01,\n",
       "        -9.24930957e+01,  2.08761047e+00, -2.08761047e+00, -2.04263597e+00,\n",
       "         2.04263597e+00, -3.30117675e+01,  8.16424719e+00,  3.64499016e+00,\n",
       "         2.12025302e+01,  6.12151191e+01,  5.05522379e+01, -7.25940200e+00,\n",
       "        -1.04507955e+02]))"
      ]
     },
     "execution_count": 77,
     "metadata": {},
     "output_type": "execute_result"
    }
   ],
   "source": [
    "ridge_reg.intercept_, ridge_reg.coef_"
   ]
  },
  {
   "cell_type": "code",
   "execution_count": 78,
   "metadata": {
    "id": "2nynYbE6P96D"
   },
   "outputs": [
    {
     "name": "stdout",
     "output_type": "stream",
     "text": [
      "101.56225421214636\n"
     ]
    }
   ],
   "source": [
    "lasso_reg = Lasso(alpha=0.1)\n",
    "lasso_reg.fit(X_train, y_train)\n",
    "pred_l = lasso_reg.predict(X_test)\n",
    "mse = mean_squared_error(y_test, pred_l)\n",
    "rmse = np.sqrt(mse)\n",
    "print(rmse)"
   ]
  },
  {
   "cell_type": "code",
   "execution_count": 79,
   "metadata": {},
   "outputs": [
    {
     "data": {
      "text/plain": [
       "(218.6524011948085,\n",
       " array([ 3.27180766e+00,  1.76978059e+00, -8.73804775e-01, -7.10780296e-01,\n",
       "        -8.50381823e+01,  0.00000000e+00, -2.96980105e+01, -1.35728022e+01,\n",
       "         0.00000000e+00, -4.87987262e+00,  1.71401016e+01,  2.85040566e+00,\n",
       "        -5.27072118e+00, -3.75178267e+00,  3.03745171e+01,  1.90334989e+01,\n",
       "         0.00000000e+00, -0.00000000e+00, -8.66790918e+00, -1.84686122e+00,\n",
       "         0.00000000e+00,  0.00000000e+00,  0.00000000e+00,  0.00000000e+00,\n",
       "        -6.39095552e+00, -8.72523168e+00, -0.00000000e+00,  0.00000000e+00,\n",
       "         0.00000000e+00, -3.85360130e+00,  0.00000000e+00,  1.87183492e-01,\n",
       "         3.68292429e+00,  0.00000000e+00,  1.48958750e+01, -4.98174542e+00,\n",
       "         0.00000000e+00, -1.49473706e+02, -1.70097066e+02, -1.83473824e+02,\n",
       "        -1.90307400e+02, -1.91967177e+02, -1.73459149e+02, -1.18167091e+02,\n",
       "         1.18118347e+01,  1.63673667e+02,  1.08736427e+01, -4.25399488e+01,\n",
       "        -2.08513802e+01,  2.03154895e+01,  1.47011803e+01,  1.27447012e-01,\n",
       "         4.16123666e+00,  6.80479813e+01,  2.30379125e+02,  1.96343380e+02,\n",
       "         8.32353052e+01,  2.85283034e+00, -4.49926321e+01, -7.83387164e+01,\n",
       "        -1.17668685e+02,  1.03780472e+00, -4.74723101e-15, -3.69178570e+00,\n",
       "         0.00000000e+00, -3.02724069e+01,  5.45986742e-01, -8.94692696e+00,\n",
       "         1.94240048e+01,  9.86493568e+00,  0.00000000e+00, -5.52865180e+01,\n",
       "        -0.00000000e+00]))"
      ]
     },
     "execution_count": 79,
     "metadata": {},
     "output_type": "execute_result"
    }
   ],
   "source": [
    "lasso_reg.intercept_, lasso_reg.coef_"
   ]
  },
  {
   "cell_type": "markdown",
   "metadata": {
    "id": "Cq3omAqI_rMM"
   },
   "source": [
    "## 3. 로지스틱 회귀 분석 실습 _ 와인 종류 분류하기 : 와인의 화학 조성을 사용하여 와인의 종류를 예측하기 위한 데이터이다. "
   ]
  },
  {
   "cell_type": "code",
   "execution_count": 80,
   "metadata": {
    "id": "VD85wu8g9mIo"
   },
   "outputs": [],
   "source": [
    "# 와인 데이터를 불러오기 위한 코드입니다. 꼭 실행해주세요.\n",
    "from sklearn import datasets"
   ]
  },
  {
   "cell_type": "markdown",
   "metadata": {
    "id": "sWQ0L53mpuAR"
   },
   "source": [
    "ㅇ 타겟 데이터 : 와인의 종류 0, 1, 2의 세가지 값\n",
    "\n",
    "ㅇ 특징 데이터\n",
    "\n",
    "* 알콜(Alcohol)\n",
    "\n",
    "* 말산(Malic acid)\n",
    "\n",
    "* 회분(Ash)\n",
    "\n",
    "* 회분의 알칼리도(Alcalinity of ash)\n",
    "\n",
    "* 마그네슘(Magnesium)\n",
    "\n",
    "* 총 폴리페놀(Total phenols)\n",
    "\n",
    "* 플라보노이드 폴리페놀(Flavanoids)\n",
    "\n",
    "* 비 플라보노이드 폴리페놀(Nonflavanoid phenols)\n",
    "\n",
    "* 프로안토시아닌(Proanthocyanins)\n",
    "\n",
    "* 색상의 강도(Color intensity)\n",
    "\n",
    "* 색상(Hue)\n",
    "\n",
    "* 희석 와인의 OD280/OD315 비율 (OD280/OD315 of diluted wines)\n",
    "\n",
    "* 프롤린(Proline)"
   ]
  },
  {
   "cell_type": "markdown",
   "metadata": {
    "id": "Qb7guafGqRcg"
   },
   "source": [
    "####3-1. 와인 데이터 가져오기 "
   ]
  },
  {
   "cell_type": "code",
   "execution_count": 81,
   "metadata": {
    "id": "joL4AFgsqLV5"
   },
   "outputs": [],
   "source": [
    "wine_data = datasets.load_wine()"
   ]
  },
  {
   "cell_type": "markdown",
   "metadata": {
    "id": "3Q8yggJRqmKU"
   },
   "source": [
    "더 자세한 데이터에 대한 설명을 보고싶으시다면 아래의 코드를 실행해주시면 됩니다. "
   ]
  },
  {
   "cell_type": "code",
   "execution_count": 82,
   "metadata": {
    "id": "U5rhJAhTq7dB"
   },
   "outputs": [
    {
     "name": "stdout",
     "output_type": "stream",
     "text": [
      ".. _wine_dataset:\n",
      "\n",
      "Wine recognition dataset\n",
      "------------------------\n",
      "\n",
      "**Data Set Characteristics:**\n",
      "\n",
      "    :Number of Instances: 178 (50 in each of three classes)\n",
      "    :Number of Attributes: 13 numeric, predictive attributes and the class\n",
      "    :Attribute Information:\n",
      " \t\t- Alcohol\n",
      " \t\t- Malic acid\n",
      " \t\t- Ash\n",
      "\t\t- Alcalinity of ash  \n",
      " \t\t- Magnesium\n",
      "\t\t- Total phenols\n",
      " \t\t- Flavanoids\n",
      " \t\t- Nonflavanoid phenols\n",
      " \t\t- Proanthocyanins\n",
      "\t\t- Color intensity\n",
      " \t\t- Hue\n",
      " \t\t- OD280/OD315 of diluted wines\n",
      " \t\t- Proline\n",
      "\n",
      "    - class:\n",
      "            - class_0\n",
      "            - class_1\n",
      "            - class_2\n",
      "\t\t\n",
      "    :Summary Statistics:\n",
      "    \n",
      "    ============================= ==== ===== ======= =====\n",
      "                                   Min   Max   Mean     SD\n",
      "    ============================= ==== ===== ======= =====\n",
      "    Alcohol:                      11.0  14.8    13.0   0.8\n",
      "    Malic Acid:                   0.74  5.80    2.34  1.12\n",
      "    Ash:                          1.36  3.23    2.36  0.27\n",
      "    Alcalinity of Ash:            10.6  30.0    19.5   3.3\n",
      "    Magnesium:                    70.0 162.0    99.7  14.3\n",
      "    Total Phenols:                0.98  3.88    2.29  0.63\n",
      "    Flavanoids:                   0.34  5.08    2.03  1.00\n",
      "    Nonflavanoid Phenols:         0.13  0.66    0.36  0.12\n",
      "    Proanthocyanins:              0.41  3.58    1.59  0.57\n",
      "    Colour Intensity:              1.3  13.0     5.1   2.3\n",
      "    Hue:                          0.48  1.71    0.96  0.23\n",
      "    OD280/OD315 of diluted wines: 1.27  4.00    2.61  0.71\n",
      "    Proline:                       278  1680     746   315\n",
      "    ============================= ==== ===== ======= =====\n",
      "\n",
      "    :Missing Attribute Values: None\n",
      "    :Class Distribution: class_0 (59), class_1 (71), class_2 (48)\n",
      "    :Creator: R.A. Fisher\n",
      "    :Donor: Michael Marshall (MARSHALL%PLU@io.arc.nasa.gov)\n",
      "    :Date: July, 1988\n",
      "\n",
      "This is a copy of UCI ML Wine recognition datasets.\n",
      "https://archive.ics.uci.edu/ml/machine-learning-databases/wine/wine.data\n",
      "\n",
      "The data is the results of a chemical analysis of wines grown in the same\n",
      "region in Italy by three different cultivators. There are thirteen different\n",
      "measurements taken for different constituents found in the three types of\n",
      "wine.\n",
      "\n",
      "Original Owners: \n",
      "\n",
      "Forina, M. et al, PARVUS - \n",
      "An Extendible Package for Data Exploration, Classification and Correlation. \n",
      "Institute of Pharmaceutical and Food Analysis and Technologies,\n",
      "Via Brigata Salerno, 16147 Genoa, Italy.\n",
      "\n",
      "Citation:\n",
      "\n",
      "Lichman, M. (2013). UCI Machine Learning Repository\n",
      "[https://archive.ics.uci.edu/ml]. Irvine, CA: University of California,\n",
      "School of Information and Computer Science. \n",
      "\n",
      ".. topic:: References\n",
      "\n",
      "  (1) S. Aeberhard, D. Coomans and O. de Vel, \n",
      "  Comparison of Classifiers in High Dimensional Settings, \n",
      "  Tech. Rep. no. 92-02, (1992), Dept. of Computer Science and Dept. of  \n",
      "  Mathematics and Statistics, James Cook University of North Queensland. \n",
      "  (Also submitted to Technometrics). \n",
      "\n",
      "  The data was used with many others for comparing various \n",
      "  classifiers. The classes are separable, though only RDA \n",
      "  has achieved 100% correct classification. \n",
      "  (RDA : 100%, QDA 99.4%, LDA 98.9%, 1NN 96.1% (z-transformed data)) \n",
      "  (All results using the leave-one-out technique) \n",
      "\n",
      "  (2) S. Aeberhard, D. Coomans and O. de Vel, \n",
      "  \"THE CLASSIFICATION PERFORMANCE OF RDA\" \n",
      "  Tech. Rep. no. 92-01, (1992), Dept. of Computer Science and Dept. of \n",
      "  Mathematics and Statistics, James Cook University of North Queensland. \n",
      "  (Also submitted to Journal of Chemometrics).\n",
      "\n"
     ]
    }
   ],
   "source": [
    "print(wine_data.DESCR)"
   ]
  },
  {
   "cell_type": "markdown",
   "metadata": {
    "id": "priQZCS8q3W5"
   },
   "source": [
    "#### 3-2. 입력변수와 목표변수 설정하기\n",
    "* 입력변수를 사용하기 편하게 pandas dataframe으로 변환해주세요.\n",
    "  - 입력변수는 data (.data) 함수를 써서 가져오시면 됩니다.\n",
    "  - 칼럼명 가져오기 : .feature_names \n",
    "* 목표변수를 사용하기 편하게 pandas dataframe으로 변환해주세요\n",
    "  - 목표변수는 target (.target) 함수를 써서 가져요오시면 됩니다. \n",
    "  - 칼럼명은 'target'으로 지정해주세요"
   ]
  },
  {
   "cell_type": "code",
   "execution_count": 86,
   "metadata": {
    "id": "ChEgIAt9qesx"
   },
   "outputs": [],
   "source": [
    "# 입력 변수를 사용하기 편하게 pandas dataframe으로 변환\n",
    "X = pd.DataFrame(wine_data.data, columns=wine_data.feature_names)\n",
    "# 목표 변수를 사용하기 편하게 pandas dataframe으로 변환\n",
    "y = pd.DataFrame(wine_data.target, columns=[\"target\"])"
   ]
  },
  {
   "cell_type": "code",
   "execution_count": 84,
   "metadata": {},
   "outputs": [
    {
     "data": {
      "text/html": [
       "<div>\n",
       "<style scoped>\n",
       "    .dataframe tbody tr th:only-of-type {\n",
       "        vertical-align: middle;\n",
       "    }\n",
       "\n",
       "    .dataframe tbody tr th {\n",
       "        vertical-align: top;\n",
       "    }\n",
       "\n",
       "    .dataframe thead th {\n",
       "        text-align: right;\n",
       "    }\n",
       "</style>\n",
       "<table border=\"1\" class=\"dataframe\">\n",
       "  <thead>\n",
       "    <tr style=\"text-align: right;\">\n",
       "      <th></th>\n",
       "      <th>alcohol</th>\n",
       "      <th>malic_acid</th>\n",
       "      <th>ash</th>\n",
       "      <th>alcalinity_of_ash</th>\n",
       "      <th>magnesium</th>\n",
       "      <th>total_phenols</th>\n",
       "      <th>flavanoids</th>\n",
       "      <th>nonflavanoid_phenols</th>\n",
       "      <th>proanthocyanins</th>\n",
       "      <th>color_intensity</th>\n",
       "      <th>hue</th>\n",
       "      <th>od280/od315_of_diluted_wines</th>\n",
       "      <th>proline</th>\n",
       "    </tr>\n",
       "  </thead>\n",
       "  <tbody>\n",
       "    <tr>\n",
       "      <th>0</th>\n",
       "      <td>14.23</td>\n",
       "      <td>1.71</td>\n",
       "      <td>2.43</td>\n",
       "      <td>15.6</td>\n",
       "      <td>127.0</td>\n",
       "      <td>2.80</td>\n",
       "      <td>3.06</td>\n",
       "      <td>0.28</td>\n",
       "      <td>2.29</td>\n",
       "      <td>5.64</td>\n",
       "      <td>1.04</td>\n",
       "      <td>3.92</td>\n",
       "      <td>1065.0</td>\n",
       "    </tr>\n",
       "    <tr>\n",
       "      <th>1</th>\n",
       "      <td>13.20</td>\n",
       "      <td>1.78</td>\n",
       "      <td>2.14</td>\n",
       "      <td>11.2</td>\n",
       "      <td>100.0</td>\n",
       "      <td>2.65</td>\n",
       "      <td>2.76</td>\n",
       "      <td>0.26</td>\n",
       "      <td>1.28</td>\n",
       "      <td>4.38</td>\n",
       "      <td>1.05</td>\n",
       "      <td>3.40</td>\n",
       "      <td>1050.0</td>\n",
       "    </tr>\n",
       "    <tr>\n",
       "      <th>2</th>\n",
       "      <td>13.16</td>\n",
       "      <td>2.36</td>\n",
       "      <td>2.67</td>\n",
       "      <td>18.6</td>\n",
       "      <td>101.0</td>\n",
       "      <td>2.80</td>\n",
       "      <td>3.24</td>\n",
       "      <td>0.30</td>\n",
       "      <td>2.81</td>\n",
       "      <td>5.68</td>\n",
       "      <td>1.03</td>\n",
       "      <td>3.17</td>\n",
       "      <td>1185.0</td>\n",
       "    </tr>\n",
       "    <tr>\n",
       "      <th>3</th>\n",
       "      <td>14.37</td>\n",
       "      <td>1.95</td>\n",
       "      <td>2.50</td>\n",
       "      <td>16.8</td>\n",
       "      <td>113.0</td>\n",
       "      <td>3.85</td>\n",
       "      <td>3.49</td>\n",
       "      <td>0.24</td>\n",
       "      <td>2.18</td>\n",
       "      <td>7.80</td>\n",
       "      <td>0.86</td>\n",
       "      <td>3.45</td>\n",
       "      <td>1480.0</td>\n",
       "    </tr>\n",
       "    <tr>\n",
       "      <th>4</th>\n",
       "      <td>13.24</td>\n",
       "      <td>2.59</td>\n",
       "      <td>2.87</td>\n",
       "      <td>21.0</td>\n",
       "      <td>118.0</td>\n",
       "      <td>2.80</td>\n",
       "      <td>2.69</td>\n",
       "      <td>0.39</td>\n",
       "      <td>1.82</td>\n",
       "      <td>4.32</td>\n",
       "      <td>1.04</td>\n",
       "      <td>2.93</td>\n",
       "      <td>735.0</td>\n",
       "    </tr>\n",
       "  </tbody>\n",
       "</table>\n",
       "</div>"
      ],
      "text/plain": [
       "   alcohol  malic_acid   ash  alcalinity_of_ash  magnesium  total_phenols  \\\n",
       "0    14.23        1.71  2.43               15.6      127.0           2.80   \n",
       "1    13.20        1.78  2.14               11.2      100.0           2.65   \n",
       "2    13.16        2.36  2.67               18.6      101.0           2.80   \n",
       "3    14.37        1.95  2.50               16.8      113.0           3.85   \n",
       "4    13.24        2.59  2.87               21.0      118.0           2.80   \n",
       "\n",
       "   flavanoids  nonflavanoid_phenols  proanthocyanins  color_intensity   hue  \\\n",
       "0        3.06                  0.28             2.29             5.64  1.04   \n",
       "1        2.76                  0.26             1.28             4.38  1.05   \n",
       "2        3.24                  0.30             2.81             5.68  1.03   \n",
       "3        3.49                  0.24             2.18             7.80  0.86   \n",
       "4        2.69                  0.39             1.82             4.32  1.04   \n",
       "\n",
       "   od280/od315_of_diluted_wines  proline  \n",
       "0                          3.92   1065.0  \n",
       "1                          3.40   1050.0  \n",
       "2                          3.17   1185.0  \n",
       "3                          3.45   1480.0  \n",
       "4                          2.93    735.0  "
      ]
     },
     "execution_count": 84,
     "metadata": {},
     "output_type": "execute_result"
    }
   ],
   "source": [
    "X.head()"
   ]
  },
  {
   "cell_type": "code",
   "execution_count": 88,
   "metadata": {},
   "outputs": [
    {
     "data": {
      "text/html": [
       "<div>\n",
       "<style scoped>\n",
       "    .dataframe tbody tr th:only-of-type {\n",
       "        vertical-align: middle;\n",
       "    }\n",
       "\n",
       "    .dataframe tbody tr th {\n",
       "        vertical-align: top;\n",
       "    }\n",
       "\n",
       "    .dataframe thead th {\n",
       "        text-align: right;\n",
       "    }\n",
       "</style>\n",
       "<table border=\"1\" class=\"dataframe\">\n",
       "  <thead>\n",
       "    <tr style=\"text-align: right;\">\n",
       "      <th></th>\n",
       "      <th>target</th>\n",
       "    </tr>\n",
       "  </thead>\n",
       "  <tbody>\n",
       "    <tr>\n",
       "      <th>0</th>\n",
       "      <td>0</td>\n",
       "    </tr>\n",
       "    <tr>\n",
       "      <th>1</th>\n",
       "      <td>0</td>\n",
       "    </tr>\n",
       "    <tr>\n",
       "      <th>2</th>\n",
       "      <td>0</td>\n",
       "    </tr>\n",
       "    <tr>\n",
       "      <th>3</th>\n",
       "      <td>0</td>\n",
       "    </tr>\n",
       "    <tr>\n",
       "      <th>4</th>\n",
       "      <td>0</td>\n",
       "    </tr>\n",
       "  </tbody>\n",
       "</table>\n",
       "</div>"
      ],
      "text/plain": [
       "   target\n",
       "0       0\n",
       "1       0\n",
       "2       0\n",
       "3       0\n",
       "4       0"
      ]
     },
     "execution_count": 88,
     "metadata": {},
     "output_type": "execute_result"
    }
   ],
   "source": [
    "y.head()"
   ]
  },
  {
   "cell_type": "markdown",
   "metadata": {
    "id": "_ZjijQNerPkH"
   },
   "source": [
    "#### 3-3. 훈련 데이터, 테스트 데이터 만들기\n",
    "* train_test_split 함수를 사용해 테스트 셋의 비율이 0.2가 되도록 X_train, X_test, y_train, y_test 을 만들어주세요. random_state=5로 설정해주세요.\n",
    "* 경고메세지를 없애도록 y_train = y_train.values.ravel() 를 실행해주세요"
   ]
  },
  {
   "cell_type": "code",
   "execution_count": 107,
   "metadata": {
    "id": "YIkmXr6yqgwB"
   },
   "outputs": [],
   "source": [
    "X_train, X_test, y_train, y_test = train_test_split(X, y, test_size=0.2, random_state=5)"
   ]
  },
  {
   "cell_type": "code",
   "execution_count": 108,
   "metadata": {},
   "outputs": [],
   "source": [
    "y_train=y_train.values.ravel()"
   ]
  },
  {
   "cell_type": "markdown",
   "metadata": {
    "id": "4yi7EQe9rrBJ"
   },
   "source": [
    "#### 3-4. 모델훈련\n",
    "* 로지스틱회귀 함수에서 옵션을 solver='saga', max_iter=7500으로 설정해주세요.\n",
    "* 학습데이터로 모델을 학습시켜주세요"
   ]
  },
  {
   "cell_type": "code",
   "execution_count": 109,
   "metadata": {
    "id": "9YH_zLswrtht"
   },
   "outputs": [],
   "source": [
    "# 필요한 라이브러리 import\n",
    "from sklearn.linear_model import LogisticRegression\n"
   ]
  },
  {
   "cell_type": "code",
   "execution_count": 110,
   "metadata": {},
   "outputs": [
    {
     "data": {
      "text/plain": [
       "LogisticRegression(max_iter=7500, solver='saga')"
      ]
     },
     "execution_count": 110,
     "metadata": {},
     "output_type": "execute_result"
    }
   ],
   "source": [
    "lr = LogisticRegression(solver='saga', max_iter=7500)\n",
    "lr.fit(X_train, y_train)"
   ]
  },
  {
   "cell_type": "markdown",
   "metadata": {
    "id": "B2uVLkjHr5gA"
   },
   "source": [
    "#### 3-5. 예측\n",
    "* 테스트 데이터 셋으로 로지스틱 회귀 모델을 이용해 와인 데이터 분류를 예측해 결과를 y_test_predict 변수에 담아주세요\n",
    "* score함수를 사용해 로지스틱 회귀 모델의 성능을 score 변수에 담아주세요\n",
    "* y_test_predict와 score 결과를 확인해주세요."
   ]
  },
  {
   "cell_type": "code",
   "execution_count": 111,
   "metadata": {},
   "outputs": [],
   "source": [
    "from sklearn.metrics import accuracy_score"
   ]
  },
  {
   "cell_type": "code",
   "execution_count": 112,
   "metadata": {
    "id": "Xbum2fKz_HY6"
   },
   "outputs": [
    {
     "data": {
      "text/plain": [
       "(array([0, 1, 0, 0, 2, 2, 0, 1, 1, 1, 1, 0, 1, 1, 1, 0, 1, 1, 1, 1, 0, 0,\n",
       "        0, 1, 1, 1, 0, 1, 2, 0, 1, 1, 0, 0, 2, 2]),\n",
       " 0.75)"
      ]
     },
     "execution_count": 112,
     "metadata": {},
     "output_type": "execute_result"
    }
   ],
   "source": [
    "# 로지스틱 회귀 모델를 이용해서 각 와인 데이터 분류를 예측함\n",
    "y_test_predict=lr.predict(X_test)\n",
    "\n",
    "# 로지스틱 회귀 모델의 성능 확인 (정확성 %를 리턴함)\n",
    "#score = accuracy_score(y_test, y_test_predict)\n",
    "score = lr.score(X_test, y_test)\n",
    "# 결과확인 \n",
    "y_test_predict, score"
   ]
  },
  {
   "cell_type": "markdown",
   "metadata": {
    "id": "7tBR0iXooDgt"
   },
   "source": [
    "#### (선택) 3-6. GridSearchCV 복습\n",
    "\n",
    "`LogisticRegression` 모델에 `param_grid`를 사용하여 GridSearchCV를 진행해주세요.\n",
    "- cv = 5\n",
    "- 추가적으로 코드를 작성하실 필요 없이, 골뱅이@@@ 부분의 코드를 완성해서 출력해주시면 됩니다. "
   ]
  },
  {
   "cell_type": "code",
   "execution_count": 114,
   "metadata": {
    "id": "YzwkudxOoH17"
   },
   "outputs": [
    {
     "data": {
      "text/plain": [
       "GridSearchCV(cv=5, estimator=LogisticRegression(max_iter=7500, solver='saga'),\n",
       "             param_grid={'C': array([2.00000000e-05, 1.01208081e-02, 2.02216162e-02, 3.03224242e-02,\n",
       "       4.04232323e-02, 5.05240404e-02, 6.06248485e-02, 7.07256566e-02,\n",
       "       8.08264646e-02, 9.09272727e-02, 1.01028081e-01, 1.11128889e-01,\n",
       "       1.21229697e-01, 1.31330505e-01, 1.41431313e-01, 1.51532121e-01,\n",
       "       1.61632929e...\n",
       "       8.08084646e-01, 8.18185455e-01, 8.28286263e-01, 8.38387071e-01,\n",
       "       8.48487879e-01, 8.58588687e-01, 8.68689495e-01, 8.78790303e-01,\n",
       "       8.88891111e-01, 8.98991919e-01, 9.09092727e-01, 9.19193535e-01,\n",
       "       9.29294343e-01, 9.39395152e-01, 9.49495960e-01, 9.59596768e-01,\n",
       "       9.69697576e-01, 9.79798384e-01, 9.89899192e-01, 1.00000000e+00]),\n",
       "                         'penalty': ['l1', 'l2', 'elasticnet']},\n",
       "             scoring='accuracy')"
      ]
     },
     "execution_count": 114,
     "metadata": {},
     "output_type": "execute_result"
    }
   ],
   "source": [
    "import warnings\n",
    "warnings.filterwarnings(\"ignore\")\n",
    "\n",
    "from sklearn.model_selection import GridSearchCV\n",
    "\n",
    "# param_grid (수정하셔도 됩니다)\n",
    "params = {\n",
    "    'penalty':['l1', 'l2', 'elasticnet'],        # l1 is Lasso, l2 is Ridge\n",
    "    'C': np.linspace(0.00002,1,100)\n",
    "}\n",
    "\n",
    "# GridSearch\n",
    "grid_search = GridSearchCV(lr, param_grid=params, scoring=\"accuracy\", cv=5)\n",
    "grid_search.fit(X_train, y_train)"
   ]
  },
  {
   "cell_type": "markdown",
   "metadata": {
    "id": "GSTe7bBGoKWk"
   },
   "source": [
    "학습된 gridsearch 모델에 저장되어 있는 best parameter, best score 를 출력해주세요."
   ]
  },
  {
   "cell_type": "code",
   "execution_count": 115,
   "metadata": {
    "id": "TR-maxHSoMCy"
   },
   "outputs": [
    {
     "data": {
      "text/plain": [
       "({'C': 0.08082646464646465, 'penalty': 'l2'}, 0.9302955665024631)"
      ]
     },
     "execution_count": 115,
     "metadata": {},
     "output_type": "execute_result"
    }
   ],
   "source": [
    "grid_search.best_params_, grid_search.best_score_"
   ]
  },
  {
   "cell_type": "code",
   "execution_count": null,
   "metadata": {},
   "outputs": [],
   "source": []
  }
 ],
 "metadata": {
  "colab": {
   "collapsed_sections": [],
   "name": "Week3_복습과제_제출용.ipynb",
   "provenance": []
  },
  "kernelspec": {
   "display_name": "Python 3",
   "language": "python",
   "name": "python3"
  },
  "language_info": {
   "codemirror_mode": {
    "name": "ipython",
    "version": 3
   },
   "file_extension": ".py",
   "mimetype": "text/x-python",
   "name": "python",
   "nbconvert_exporter": "python",
   "pygments_lexer": "ipython3",
   "version": "3.8.3"
  }
 },
 "nbformat": 4,
 "nbformat_minor": 1
}
