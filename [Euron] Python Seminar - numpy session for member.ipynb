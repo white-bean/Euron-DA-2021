{
 "cells": [
  {
   "cell_type": "markdown",
   "metadata": {
    "id": "armed-mozambique"
   },
   "source": [
    "# EURON - Python seminar : numpy\n",
    "\n",
    "(외부에 유출 금지)"
   ]
  },
  {
   "cell_type": "markdown",
   "metadata": {
    "id": "scientific-jurisdiction"
   },
   "source": [
    "## 1. Import numpy & matplotlib"
   ]
  },
  {
   "cell_type": "markdown",
   "metadata": {
    "id": "congressional-catalog"
   },
   "source": [
    "> **numpy**  \n",
    " : 다차원 배열 객체, 다양한 파생 객체(masked arrays & matrices, ...) 및 array(mathematical, logical, shape manipulation, sorting, selecting, I/O, discrete Fourier transforms, basic linear algebra, basic statistical operations, random simulation ...)의 빠른 연산을 가능하게 하는 library  \n",
    " ( more detail : [guide](https://numpy.org/doc/stable/user/whatisnumpy.html) )\n",
    " \n",
    "> **matplotlib**  \n",
    " : \"plotting\" for visulalization"
   ]
  },
  {
   "cell_type": "code",
   "execution_count": 1,
   "metadata": {
    "id": "mobile-parent"
   },
   "outputs": [],
   "source": [
    "import matplotlib.pyplot as plt\n",
    "import numpy as np"
   ]
  },
  {
   "cell_type": "markdown",
   "metadata": {
    "id": "civil-planet"
   },
   "source": [
    "* plotting "
   ]
  },
  {
   "cell_type": "code",
   "execution_count": 2,
   "metadata": {
    "id": "flexible-boring"
   },
   "outputs": [
    {
     "data": {
      "image/png": "[encoded data removed]",
      "text/plain": [
       "<Figure size 432x288 with 1 Axes>"
      ]
     },
     "metadata": {
      "needs_background": "light"
     },
     "output_type": "display_data"
    }
   ],
   "source": [
    "x = np.array([1, 3, 5])\n",
    "y = np.array([2, 4, 6])\n",
    "\n",
    "plt.plot(x, y);"
   ]
  },
  {
   "cell_type": "code",
   "execution_count": 3,
   "metadata": {
    "id": "rational-brook"
   },
   "outputs": [
    {
     "data": {
      "image/png": "[encoded data removed]",
      "text/plain": [
       "<Figure size 432x288 with 1 Axes>"
      ]
     },
     "metadata": {
      "needs_background": "light"
     },
     "output_type": "display_data"
    }
   ],
   "source": [
    "# gs : green & square & line\n",
    "plt.plot(x, y, \"gs-\"); "
   ]
  },
  {
   "cell_type": "code",
   "execution_count": 4,
   "metadata": {
    "id": "major-mortality"
   },
   "outputs": [
    {
     "data": {
      "image/png": "[encoded data removed]",
      "text/plain": [
       "<Figure size 432x288 with 1 Axes>"
      ]
     },
     "metadata": {
      "needs_background": "light"
     },
     "output_type": "display_data"
    }
   ],
   "source": [
    "# red & dot\n",
    "plt.plot(x, y, \"ro\");"
   ]
  },
  {
   "cell_type": "markdown",
   "metadata": {
    "id": "choice-hunger"
   },
   "source": [
    "#### more detail  \n",
    "```python  \n",
    "help(plt.plot)\n",
    "```\n",
    "\n",
    "> plot(x, y)        # plot x and y using default line style and color   \n",
    "  plot(x, y, 'bo')  # plot x and y using blue circle markers  \n",
    "  plot(y)           # plot y using x as index array 0..N-1   \n",
    "  plot(y, 'r+')     # ditto, but with red plusses  \n",
    "  plot(x, y, 'go--', linewidth=2, markersize=12)  \n",
    "  plot(x, y, color='green', marker='o', linestyle='dashed',...      linewidth=2, markersize=12)"
   ]
  },
  {
   "cell_type": "markdown",
   "metadata": {
    "id": "normal-acrylic"
   },
   "source": [
    "## 2. ndarray 생성"
   ]
  },
  {
   "cell_type": "markdown",
   "metadata": {
    "id": "further-representative"
   },
   "source": [
    "### Data types of array : `.dtype`\n",
    "\n",
    "> **floating** type : `float32`, `float64` (default)  \n",
    " **integer** type : `int64`, `int32`, . . . , `uint8`"
   ]
  },
  {
   "cell_type": "markdown",
   "metadata": {
    "id": "abstract-solution"
   },
   "source": [
    "1. **`np.array`**"
   ]
  },
  {
   "cell_type": "code",
   "execution_count": 5,
   "metadata": {
    "id": "announced-mixer"
   },
   "outputs": [
    {
     "name": "stdout",
     "output_type": "stream",
     "text": [
      "[1 2 3 4]\n"
     ]
    }
   ],
   "source": [
    "x = np.array([1, 2, 3, 4])\n",
    "print(x)"
   ]
  },
  {
   "cell_type": "code",
   "execution_count": 6,
   "metadata": {
    "id": "developed-august"
   },
   "outputs": [
    {
     "name": "stdout",
     "output_type": "stream",
     "text": [
      "[[1 2]\n",
      " [3 4]]\n"
     ]
    }
   ],
   "source": [
    "y = np.array([[1, 2], [3, 4]])\n",
    "print(y)"
   ]
  },
  {
   "cell_type": "code",
   "execution_count": 7,
   "metadata": {
    "id": "selected-range"
   },
   "outputs": [
    {
     "name": "stdout",
     "output_type": "stream",
     "text": [
      "type of x :  <class 'numpy.ndarray'> \n",
      " type of y :  <class 'numpy.ndarray'> \n",
      "\n",
      "shape of x :  (4,) \n",
      " shape of y :  (2, 2)\n"
     ]
    }
   ],
   "source": [
    "print(\"type of x : \", type(x), \"\\n\", \"type of y : \", type(y), \"\\n\")\n",
    "print(\"shape of x : \", x.shape, \"\\n\", \"shape of y : \", y.shape)"
   ]
  },
  {
   "cell_type": "markdown",
   "metadata": {
    "id": "pretty-demographic"
   },
   "source": [
    "   2. **`np.arange`**"
   ]
  },
  {
   "cell_type": "code",
   "execution_count": 8,
   "metadata": {
    "id": "valuable-positive"
   },
   "outputs": [
    {
     "data": {
      "text/plain": [
       "array([0, 1, 2, 3, 4])"
      ]
     },
     "execution_count": 8,
     "metadata": {},
     "output_type": "execute_result"
    }
   ],
   "source": [
    "# np.arange(a) : 0부터 a 앞까지 (a 미포함)\n",
    "np.arange(5) "
   ]
  },
  {
   "cell_type": "code",
   "execution_count": 9,
   "metadata": {
    "id": "established-sheet"
   },
   "outputs": [
    {
     "data": {
      "text/plain": [
       "array([10, 11, 12, 13, 14, 15, 16])"
      ]
     },
     "execution_count": 9,
     "metadata": {},
     "output_type": "execute_result"
    }
   ],
   "source": [
    "# np.arange(a, b) : a부터 b 앞까지 (b 미포함)\n",
    "np.arange(10, 17)"
   ]
  },
  {
   "cell_type": "code",
   "execution_count": 10,
   "metadata": {
    "id": "touched-haven"
   },
   "outputs": [
    {
     "data": {
      "text/plain": [
       "array([10, 12, 14, 16])"
      ]
     },
     "execution_count": 10,
     "metadata": {},
     "output_type": "execute_result"
    }
   ],
   "source": [
    "# np.arange(a, b, c) : a부터 b 앞까지 (b 미포함) c의 간격\n",
    "np.arange(10, 18, 2)"
   ]
  },
  {
   "cell_type": "markdown",
   "metadata": {
    "id": "italic-greek"
   },
   "source": [
    "3. **`np.linspace`**"
   ]
  },
  {
   "cell_type": "code",
   "execution_count": 11,
   "metadata": {
    "id": "advanced-morgan"
   },
   "outputs": [
    {
     "data": {
      "text/plain": [
       "array([  0.,  10.,  20.,  30.,  40.,  50.,  60.,  70.,  80.,  90., 100.])"
      ]
     },
     "execution_count": 11,
     "metadata": {},
     "output_type": "execute_result"
    }
   ],
   "source": [
    "# np.linspace(a,b,c) : a부터 b까지 (*****b 포함*****) c개의 구간으로 ( step = (b-a)/(c-1) )\n",
    "np.linspace(0, 100, 11)"
   ]
  },
  {
   "cell_type": "markdown",
   "metadata": {
    "id": "becoming-payment"
   },
   "source": [
    "4. **`np.ones`** & **`np.zeros`**"
   ]
  },
  {
   "cell_type": "code",
   "execution_count": 12,
   "metadata": {
    "id": "falling-associate"
   },
   "outputs": [
    {
     "data": {
      "text/plain": [
       "array([1., 1., 1., 1., 1., 1., 1., 1., 1., 1.])"
      ]
     },
     "execution_count": 12,
     "metadata": {},
     "output_type": "execute_result"
    }
   ],
   "source": [
    "# np.ones(n) : 1이 n개\n",
    "np.ones(10) "
   ]
  },
  {
   "cell_type": "code",
   "execution_count": 13,
   "metadata": {
    "id": "provincial-table"
   },
   "outputs": [
    {
     "data": {
      "text/plain": [
       "array([[1., 1., 1., 1.],\n",
       "       [1., 1., 1., 1.],\n",
       "       [1., 1., 1., 1.]])"
      ]
     },
     "execution_count": 13,
     "metadata": {},
     "output_type": "execute_result"
    }
   ],
   "source": [
    "np.ones((3, 4)) # shape으로 지정"
   ]
  },
  {
   "cell_type": "code",
   "execution_count": 14,
   "metadata": {
    "id": "electoral-colleague"
   },
   "outputs": [
    {
     "data": {
      "text/plain": [
       "array([0., 0., 0., 0., 0., 0., 0., 0., 0., 0.])"
      ]
     },
     "execution_count": 14,
     "metadata": {},
     "output_type": "execute_result"
    }
   ],
   "source": [
    "# np.zeros(n) : 0이 n개\n",
    "np.zeros(10)"
   ]
  },
  {
   "cell_type": "code",
   "execution_count": 15,
   "metadata": {
    "id": "european-understanding"
   },
   "outputs": [
    {
     "data": {
      "text/plain": [
       "array([[[0., 0.],\n",
       "        [0., 0.],\n",
       "        [0., 0.],\n",
       "        [0., 0.]],\n",
       "\n",
       "       [[0., 0.],\n",
       "        [0., 0.],\n",
       "        [0., 0.],\n",
       "        [0., 0.]],\n",
       "\n",
       "       [[0., 0.],\n",
       "        [0., 0.],\n",
       "        [0., 0.],\n",
       "        [0., 0.]]])"
      ]
     },
     "execution_count": 15,
     "metadata": {},
     "output_type": "execute_result"
    }
   ],
   "source": [
    "np.zeros((3, 4, 2)) # shape으로 지정"
   ]
  },
  {
   "cell_type": "markdown",
   "metadata": {
    "id": "light-trailer"
   },
   "source": [
    "5. **`np.empty & np.full`**"
   ]
  },
  {
   "cell_type": "code",
   "execution_count": 16,
   "metadata": {
    "id": "spoken-forward"
   },
   "outputs": [
    {
     "data": {
      "text/plain": [
       "array([[ 69.21818182,  45.88363636, 221.4       ],\n",
       "       [144.72      , 373.58181818, 243.55636364]])"
      ]
     },
     "execution_count": 16,
     "metadata": {},
     "output_type": "execute_result"
    }
   ],
   "source": [
    "# np.empty(shape) :  return array of given shape ***without initializing entries***\n",
    "np.empty((2, 3)) "
   ]
  },
  {
   "cell_type": "markdown",
   "metadata": {
    "id": "downtown-bankruptcy"
   },
   "source": [
    "> 'empty', unlike 'zeros', does not set the array values to zero, and may therefore be marginally faster. On the other hand, it requires the user to manually set all the values in the array, and should be used with caution. [Reference](https://numpy.org/doc/stable/reference/generated/numpy.empty.html)"
   ]
  },
  {
   "cell_type": "code",
   "execution_count": 17,
   "metadata": {
    "id": "mighty-ethnic"
   },
   "outputs": [
    {
     "data": {
      "text/plain": [
       "array([[9.42125192e-312, 9.73309322e-322, 0.00000000e+000],\n",
       "       [0.00000000e+000, 6.47208716e-312, 5.02034658e+175],\n",
       "       [5.99894451e-066, 6.88904696e-042, 1.54727965e-075],\n",
       "       [6.28200344e+174, 5.19587102e-144, 1.12855837e+277],\n",
       "       [6.32672840e+180, 3.77716621e+233, 5.04621361e+180],\n",
       "       [8.37170571e-144, 3.80985069e+180, 9.30537467e+199],\n",
       "       [7.95956263e-042, 2.57706777e-057, 3.43580064e+179],\n",
       "       [2.16530185e+184, 4.26324372e-096, 8.37170584e-144],\n",
       "       [5.88728850e-091, 4.91701710e-062, 5.34733781e-038],\n",
       "       [5.74020278e+180, 8.37174974e-144, 6.81693983e-310]])"
      ]
     },
     "execution_count": 17,
     "metadata": {},
     "output_type": "execute_result"
    }
   ],
   "source": [
    "np.empty((10, 3))"
   ]
  },
  {
   "cell_type": "code",
   "execution_count": 18,
   "metadata": {
    "id": "similar-refund"
   },
   "outputs": [
    {
     "data": {
      "text/plain": [
       "array([[3, 3],\n",
       "       [3, 3],\n",
       "       [3, 3],\n",
       "       [3, 3],\n",
       "       [3, 3]])"
      ]
     },
     "execution_count": 18,
     "metadata": {},
     "output_type": "execute_result"
    }
   ],
   "source": [
    "# np.full(shape, value) : 모든 값이 \"value\"이고 shape이 \"shape\"인 array\n",
    "np.full((5, 2), 3)"
   ]
  },
  {
   "cell_type": "markdown",
   "metadata": {
    "id": "competent-antenna"
   },
   "source": [
    "6. **`np.eye`**"
   ]
  },
  {
   "cell_type": "code",
   "execution_count": 19,
   "metadata": {
    "id": "actual-hypothetical"
   },
   "outputs": [
    {
     "data": {
      "text/plain": [
       "array([[1., 0., 0., 0., 0.],\n",
       "       [0., 1., 0., 0., 0.],\n",
       "       [0., 0., 1., 0., 0.],\n",
       "       [0., 0., 0., 1., 0.],\n",
       "       [0., 0., 0., 0., 1.]])"
      ]
     },
     "execution_count": 19,
     "metadata": {},
     "output_type": "execute_result"
    }
   ],
   "source": [
    "# np.eye(n) : n*n 단위 행렬\n",
    "np.eye(5, 5)"
   ]
  },
  {
   "cell_type": "markdown",
   "metadata": {
    "id": "noticed-opportunity"
   },
   "source": [
    "### [서브 모듈]"
   ]
  },
  {
   "cell_type": "markdown",
   "metadata": {
    "id": "ruled-nicaragua"
   },
   "source": [
    "8. **`np.random.rand`** & **`np.random.randn`** & **`np.random.uniform`**"
   ]
  },
  {
   "cell_type": "code",
   "execution_count": 20,
   "metadata": {
    "id": "verbal-adelaide"
   },
   "outputs": [
    {
     "data": {
      "text/plain": [
       "array([0.38219026, 0.56777688, 0.95610006, 0.94293215, 0.59768592,\n",
       "       0.57614949, 0.83289207, 0.80146438, 0.74007992, 0.51520891])"
      ]
     },
     "execution_count": 20,
     "metadata": {},
     "output_type": "execute_result"
    }
   ],
   "source": [
    "# np.random.rand(n) : 구간 [0, 1]에서 random 값 n개 return\n",
    "np.random.rand(10)"
   ]
  },
  {
   "cell_type": "code",
   "execution_count": 21,
   "metadata": {
    "id": "angry-heaven"
   },
   "outputs": [
    {
     "data": {
      "text/plain": [
       "array([[[0.51124845, 0.99389096],\n",
       "        [0.31348209, 0.51801029],\n",
       "        [0.76714877, 0.41569502],\n",
       "        [0.529119  , 0.54700121]],\n",
       "\n",
       "       [[0.51840734, 0.9738239 ],\n",
       "        [0.5576744 , 0.92196026],\n",
       "        [0.79682983, 0.12971875],\n",
       "        [0.06588407, 0.74422622]]])"
      ]
     },
     "execution_count": 21,
     "metadata": {},
     "output_type": "execute_result"
    }
   ],
   "source": [
    "# np.random.rand(shape) : 구간 [0, 1]에서 random 값을 shape에 맞춰 return\n",
    "np.random.rand(2, 4, 2)"
   ]
  },
  {
   "cell_type": "code",
   "execution_count": 22,
   "metadata": {
    "id": "smooth-interaction"
   },
   "outputs": [
    {
     "data": {
      "image/png": "[encoded data removed]",
      "text/plain": [
       "<Figure size 432x288 with 1 Axes>"
      ]
     },
     "metadata": {
      "needs_background": "light"
     },
     "output_type": "display_data"
    }
   ],
   "source": [
    "plt.hist(np.random.rand(100000));"
   ]
  },
  {
   "cell_type": "code",
   "execution_count": 23,
   "metadata": {
    "id": "equal-solid"
   },
   "outputs": [
    {
     "data": {
      "text/plain": [
       "array([-1.42392568, -0.18410876, -0.9482733 ,  0.39220263, -1.29427466,\n",
       "        0.28010842,  0.83944541, -0.92976236,  0.90059405,  0.27912604])"
      ]
     },
     "execution_count": 23,
     "metadata": {},
     "output_type": "execute_result"
    }
   ],
   "source": [
    "# np.random.randn(n) : 표준정규분포(normal distribution)에서 random 값 n개 return\n",
    "np.random.randn(10)"
   ]
  },
  {
   "cell_type": "code",
   "execution_count": 24,
   "metadata": {
    "id": "approximate-bibliography"
   },
   "outputs": [
    {
     "data": {
      "text/plain": [
       "array([[[-0.07819682, -0.95695335],\n",
       "        [ 0.1033011 , -0.08641932],\n",
       "        [-0.41418932,  0.1146234 ],\n",
       "        [ 0.12632908,  2.43838039]],\n",
       "\n",
       "       [[ 0.68783898,  0.30682285],\n",
       "        [ 0.16400821,  0.0420621 ],\n",
       "        [-0.62571352,  0.61797362],\n",
       "        [ 0.26881489, -0.26666965]]])"
      ]
     },
     "execution_count": 24,
     "metadata": {},
     "output_type": "execute_result"
    }
   ],
   "source": [
    "# np.random.randn(shape) : 표준정규분포(normal distribution)에서 random 값을 shape에 맞춰 return\n",
    "np.random.randn(2, 4, 2)"
   ]
  },
  {
   "cell_type": "code",
   "execution_count": 25,
   "metadata": {
    "id": "available-remedy"
   },
   "outputs": [
    {
     "data": {
      "image/png": "[encoded data removed]",
      "text/plain": [
       "<Figure size 432x288 with 1 Axes>"
      ]
     },
     "metadata": {
      "needs_background": "light"
     },
     "output_type": "display_data"
    }
   ],
   "source": [
    "plt.hist(np.random.randn(100000));"
   ]
  },
  {
   "cell_type": "code",
   "execution_count": 26,
   "metadata": {
    "id": "finite-fight"
   },
   "outputs": [
    {
     "data": {
      "text/plain": [
       "array([[1.09199831, 2.36302679, 1.66436573, 1.61972625, 1.27258683],\n",
       "       [2.9298279 , 2.31146218, 1.65428311, 1.07990884, 1.4124816 ],\n",
       "       [2.14179302, 1.13291031, 2.62303972, 2.02200407, 1.59166528]])"
      ]
     },
     "execution_count": 26,
     "metadata": {},
     "output_type": "execute_result"
    }
   ],
   "source": [
    "# np.random.uniform(a, b, size=(c, d))\n",
    "##          : 구간 [a,b]에서 정의되는 연속균등분포포(uniform distribution)에서 random 값을 c*d shape으로 return\n",
    "np.random.uniform(1.0, 3.0, size=(3, 5))"
   ]
  },
  {
   "cell_type": "code",
   "execution_count": 27,
   "metadata": {
    "id": "technological-spectrum"
   },
   "outputs": [
    {
     "data": {
      "image/png": "[encoded data removed]",
      "text/plain": [
       "<Figure size 432x288 with 1 Axes>"
      ]
     },
     "metadata": {
      "needs_background": "light"
     },
     "output_type": "display_data"
    }
   ],
   "source": [
    "plt.hist(np.random.uniform(2.0 , 5.0, size=(100000))) ;"
   ]
  },
  {
   "cell_type": "markdown",
   "metadata": {
    "id": "bigger-recall"
   },
   "source": [
    "9. **`np.random.randint`** & **`np.random.seed`**"
   ]
  },
  {
   "cell_type": "code",
   "execution_count": 28,
   "metadata": {
    "id": "lucky-retirement"
   },
   "outputs": [
    {
     "data": {
      "text/plain": [
       "array([[17, 16, 11],\n",
       "       [16, 15, 17]])"
      ]
     },
     "execution_count": 28,
     "metadata": {},
     "output_type": "execute_result"
    }
   ],
   "source": [
    "# np.random.randint(a, b, size=(c, d)) : 정수 a~b 사이에서 random 값을 c*d shape으로 return\n",
    "np.random.randint(6, 18, size=(2, 3))"
   ]
  },
  {
   "cell_type": "code",
   "execution_count": 29,
   "metadata": {
    "id": "choice-wheel"
   },
   "outputs": [
    {
     "name": "stdout",
     "output_type": "stream",
     "text": [
      "[ 0.18116489 -0.11458338 -0.35903589] \n",
      " [-1.19459974 -0.7776425   2.1868735 ]\n"
     ]
    },
    {
     "data": {
      "text/plain": [
       "array([False, False, False])"
      ]
     },
     "execution_count": 29,
     "metadata": {},
     "output_type": "execute_result"
    }
   ],
   "source": [
    "x1 = np.random.randn(3)\n",
    "x2 = np.random.randn(3)\n",
    "\n",
    "print(x1, \"\\n\", x2)\n",
    "x1 == x2"
   ]
  },
  {
   "cell_type": "code",
   "execution_count": 30,
   "metadata": {
    "id": "cellular-infrastructure"
   },
   "outputs": [
    {
     "data": {
      "text/plain": [
       "array([ 0.49671415, -0.1382643 ,  0.64768854])"
      ]
     },
     "execution_count": 30,
     "metadata": {},
     "output_type": "execute_result"
    }
   ],
   "source": [
    "np.random.seed(42)\n",
    "x1 = np.random.randn(3)\n",
    "\n",
    "x1"
   ]
  },
  {
   "cell_type": "code",
   "execution_count": 31,
   "metadata": {
    "id": "accomplished-facility"
   },
   "outputs": [
    {
     "data": {
      "text/plain": [
       "array([ 0.49671415, -0.1382643 ,  0.64768854])"
      ]
     },
     "execution_count": 31,
     "metadata": {},
     "output_type": "execute_result"
    }
   ],
   "source": [
    "np.random.seed(42)\n",
    "x2 = np.random.randn(3)\n",
    "\n",
    "x2"
   ]
  },
  {
   "cell_type": "markdown",
   "metadata": {
    "id": "efficient-fellow"
   },
   "source": [
    "10. **`np.random.choice`**"
   ]
  },
  {
   "cell_type": "code",
   "execution_count": 32,
   "metadata": {
    "id": "simple-highland"
   },
   "outputs": [
    {
     "data": {
      "text/plain": [
       "array([[6],\n",
       "       [9]])"
      ]
     },
     "execution_count": 32,
     "metadata": {},
     "output_type": "execute_result"
    }
   ],
   "source": [
    "# np.random.choice(n, size=(c, d)) : np.arange(n)에서 random sampling (n은 정수)\n",
    "np.random.choice(10, size=(2, 1))"
   ]
  },
  {
   "cell_type": "code",
   "execution_count": 33,
   "metadata": {
    "id": "miniature-league"
   },
   "outputs": [
    {
     "data": {
      "text/plain": [
       "array([[3.],\n",
       "       [1.]])"
      ]
     },
     "execution_count": 33,
     "metadata": {},
     "output_type": "execute_result"
    }
   ],
   "source": [
    "# np.random.choice(1-d ndarray, size=(c, d)) : 1차원 ndarray에서 random sampling \n",
    "xx = np.array([1, 3, 5.6, 9, 39])\n",
    "np.random.choice(xx, size=(2, 1), replace=False) ## 비복원추출  (default : replace=True ==> 복원추출)"
   ]
  },
  {
   "cell_type": "markdown",
   "metadata": {
    "id": "soviet-description"
   },
   "source": [
    "## 3. Indexing & Slicing"
   ]
  },
  {
   "cell_type": "markdown",
   "metadata": {
    "id": "acoustic-chancellor"
   },
   "source": [
    "**!! FOCUS !!**   \n",
    "> 1st element $\\longrightarrow\\\\$ idx = 0 "
   ]
  },
  {
   "cell_type": "markdown",
   "metadata": {
    "id": "light-corruption"
   },
   "source": [
    "1. **1-D** : vectors   (\"숫자\"만 가능한 list라고 생각)"
   ]
  },
  {
   "cell_type": "code",
   "execution_count": 34,
   "metadata": {
    "id": "threatened-debut"
   },
   "outputs": [
    {
     "name": "stdout",
     "output_type": "stream",
     "text": [
      "[0 1 2 3 4 5 6 7]\n",
      "(8,)\n",
      "(8,)\n"
     ]
    }
   ],
   "source": [
    "x1 = np.arange(8) # 이 경우 elements = index\n",
    "print(x1)\n",
    "print(x1.shape) # dimension\n",
    "print(np.shape(x1))"
   ]
  },
  {
   "cell_type": "code",
   "execution_count": 35,
   "metadata": {
    "id": "correct-framework"
   },
   "outputs": [
    {
     "name": "stdout",
     "output_type": "stream",
     "text": [
      "0\n",
      "6\n"
     ]
    }
   ],
   "source": [
    "print(x1[0])\n",
    "print(x1[6])"
   ]
  },
  {
   "cell_type": "markdown",
   "metadata": {
    "id": "representative-myanmar"
   },
   "source": [
    "**Slicing**"
   ]
  },
  {
   "cell_type": "code",
   "execution_count": 36,
   "metadata": {
    "id": "reasonable-dating"
   },
   "outputs": [
    {
     "name": "stdout",
     "output_type": "stream",
     "text": [
      "[1 2 3 4 5 6 7]\n",
      "[5 6]\n"
     ]
    }
   ],
   "source": [
    "print(x1[1:])\n",
    "print(x1[5:7])"
   ]
  },
  {
   "cell_type": "markdown",
   "metadata": {
    "id": "plain-consumption"
   },
   "source": [
    "2. **2-D** : metrics "
   ]
  },
  {
   "cell_type": "code",
   "execution_count": 37,
   "metadata": {
    "id": "cardiac-jamaica"
   },
   "outputs": [
    {
     "name": "stdout",
     "output_type": "stream",
     "text": [
      "[[0 1 2 3]\n",
      " [4 5 6 7]]\n",
      "(2, 4)\n",
      "(2, 4)\n"
     ]
    }
   ],
   "source": [
    "x2 = np.arange(8).reshape(2, 4)\n",
    "print(x2)\n",
    "print(x2.shape)\n",
    "print(np.shape(x2))"
   ]
  },
  {
   "cell_type": "code",
   "execution_count": 38,
   "metadata": {
    "id": "engaging-equipment"
   },
   "outputs": [
    {
     "data": {
      "text/plain": [
       "array([0, 1, 2, 3])"
      ]
     },
     "execution_count": 38,
     "metadata": {},
     "output_type": "execute_result"
    }
   ],
   "source": [
    "x2[0]"
   ]
  },
  {
   "cell_type": "code",
   "execution_count": 39,
   "metadata": {
    "id": "rolled-homeless"
   },
   "outputs": [
    {
     "data": {
      "text/plain": [
       "1"
      ]
     },
     "execution_count": 39,
     "metadata": {},
     "output_type": "execute_result"
    }
   ],
   "source": [
    "x2[0][1]"
   ]
  },
  {
   "cell_type": "code",
   "execution_count": 40,
   "metadata": {
    "id": "toxic-confusion"
   },
   "outputs": [
    {
     "data": {
      "text/plain": [
       "7"
      ]
     },
     "execution_count": 40,
     "metadata": {},
     "output_type": "execute_result"
    }
   ],
   "source": [
    "x2[1][3]"
   ]
  },
  {
   "cell_type": "markdown",
   "metadata": {
    "id": "arabic-folks"
   },
   "source": [
    "**Slicing**"
   ]
  },
  {
   "cell_type": "code",
   "execution_count": 41,
   "metadata": {
    "id": "trying-sherman"
   },
   "outputs": [
    {
     "data": {
      "text/plain": [
       "array([[0, 1, 2]])"
      ]
     },
     "execution_count": 41,
     "metadata": {},
     "output_type": "execute_result"
    }
   ],
   "source": [
    "x2[:1, :3]"
   ]
  },
  {
   "cell_type": "markdown",
   "metadata": {
    "id": "coastal-madonna"
   },
   "source": [
    "3. **3-D**"
   ]
  },
  {
   "cell_type": "code",
   "execution_count": 42,
   "metadata": {
    "id": "proper-allergy"
   },
   "outputs": [
    {
     "name": "stdout",
     "output_type": "stream",
     "text": [
      "[[[ 0  1]\n",
      "  [ 2  3]]\n",
      "\n",
      " [[ 4  5]\n",
      "  [ 6  7]]\n",
      "\n",
      " [[ 8  9]\n",
      "  [10 11]]]\n",
      "(3, 2, 2)\n",
      "(3, 2, 2)\n"
     ]
    }
   ],
   "source": [
    "x3 = np.arange(12).reshape(3,2,2)\n",
    "print(x3)\n",
    "print(x3.shape)\n",
    "print(np.shape(x3))"
   ]
  },
  {
   "cell_type": "code",
   "execution_count": 43,
   "metadata": {
    "id": "wired-light"
   },
   "outputs": [
    {
     "data": {
      "text/plain": [
       "array([[4, 5],\n",
       "       [6, 7]])"
      ]
     },
     "execution_count": 43,
     "metadata": {},
     "output_type": "execute_result"
    }
   ],
   "source": [
    "x3[1]"
   ]
  },
  {
   "cell_type": "code",
   "execution_count": 44,
   "metadata": {
    "id": "representative-science"
   },
   "outputs": [
    {
     "data": {
      "text/plain": [
       "array([10, 11])"
      ]
     },
     "execution_count": 44,
     "metadata": {},
     "output_type": "execute_result"
    }
   ],
   "source": [
    "x3[2][1]"
   ]
  },
  {
   "cell_type": "code",
   "execution_count": 45,
   "metadata": {
    "id": "floral-matthew"
   },
   "outputs": [
    {
     "data": {
      "text/plain": [
       "array([0, 1])"
      ]
     },
     "execution_count": 45,
     "metadata": {},
     "output_type": "execute_result"
    }
   ],
   "source": [
    "x3[0][0]"
   ]
  },
  {
   "cell_type": "markdown",
   "metadata": {
    "id": "devoted-viking"
   },
   "source": [
    "**Slicing**"
   ]
  },
  {
   "cell_type": "code",
   "execution_count": 46,
   "metadata": {
    "id": "european-flood"
   },
   "outputs": [
    {
     "data": {
      "text/plain": [
       "array([[[0, 1]],\n",
       "\n",
       "       [[4, 5]]])"
      ]
     },
     "execution_count": 46,
     "metadata": {},
     "output_type": "execute_result"
    }
   ],
   "source": [
    "x3[:2, :1, :]"
   ]
  },
  {
   "cell_type": "markdown",
   "metadata": {
    "id": "secondary-river"
   },
   "source": [
    "* practice\n",
    "```python\n",
    "p = np.array([[[[[1], [2], [3], [4]]]]])\n",
    "```\n",
    "Q1. shape?   \n",
    "Q2. p[0]?  \n",
    "Q3. p[0][0][0][2]?"
   ]
  },
  {
   "cell_type": "markdown",
   "metadata": {
    "id": "great-symposium"
   },
   "source": [
    "## 4. Change shape of array"
   ]
  },
  {
   "cell_type": "markdown",
   "metadata": {
    "id": "lonely-scott"
   },
   "source": [
    " 1. **`np.reshape`**"
   ]
  },
  {
   "cell_type": "code",
   "execution_count": 47,
   "metadata": {
    "id": "intellectual-stuff"
   },
   "outputs": [
    {
     "data": {
      "text/plain": [
       "array([[0, 1, 2],\n",
       "       [3, 4, 5]])"
      ]
     },
     "execution_count": 47,
     "metadata": {},
     "output_type": "execute_result"
    }
   ],
   "source": [
    "# np.reshape(x, shape) : x의 shape을 \"shape\"으로 변환\n",
    "x = np.arange(0, 6)\n",
    "y = np.reshape(x, (2, 3))\n",
    "\n",
    "y"
   ]
  },
  {
   "cell_type": "code",
   "execution_count": 48,
   "metadata": {
    "id": "disturbed-cleaning"
   },
   "outputs": [
    {
     "data": {
      "text/plain": [
       "array([[0, 1, 2],\n",
       "       [3, 4, 5]])"
      ]
     },
     "execution_count": 48,
     "metadata": {},
     "output_type": "execute_result"
    }
   ],
   "source": [
    "# x.reshape(shape)\n",
    "y = x.reshape(2, 3)\n",
    "\n",
    "y"
   ]
  },
  {
   "cell_type": "markdown",
   "metadata": {
    "id": "excess-slide"
   },
   "source": [
    "*!!주어진 x에 따라 만들 수 있는 shape 한정됨!!*  \n",
    "\n",
    "```python\n",
    "# incorrect example\n",
    "y_error = np.reshape(x, (3, 5))\n",
    "\n",
    "y_error\n",
    "```\n",
    "*결과 -  ValueError: cannot reshape array of size 6 into shape (3,5)*"
   ]
  },
  {
   "cell_type": "markdown",
   "metadata": {
    "id": "opposed-optics"
   },
   "source": [
    "2. **`np.ravel`** : multi dim $\\rightarrow\\$ 1 dim"
   ]
  },
  {
   "cell_type": "code",
   "execution_count": 49,
   "metadata": {
    "id": "organic-marathon"
   },
   "outputs": [
    {
     "data": {
      "text/plain": [
       "array([0, 1, 2, 3, 4, 5])"
      ]
     },
     "execution_count": 49,
     "metadata": {},
     "output_type": "execute_result"
    }
   ],
   "source": [
    "np.ravel(y, order=\"C\") # row 기준 -> default"
   ]
  },
  {
   "cell_type": "code",
   "execution_count": 50,
   "metadata": {
    "id": "attractive-rebate"
   },
   "outputs": [
    {
     "data": {
      "text/plain": [
       "array([0, 3, 1, 4, 2, 5])"
      ]
     },
     "execution_count": 50,
     "metadata": {},
     "output_type": "execute_result"
    }
   ],
   "source": [
    "np.ravel(y, order=\"F\") # column 기준"
   ]
  },
  {
   "cell_type": "code",
   "execution_count": 51,
   "metadata": {
    "id": "approved-peninsula"
   },
   "outputs": [
    {
     "data": {
      "text/plain": [
       "array([[0, 1, 2],\n",
       "       [3, 4, 5]])"
      ]
     },
     "execution_count": 51,
     "metadata": {},
     "output_type": "execute_result"
    }
   ],
   "source": [
    "y"
   ]
  },
  {
   "cell_type": "code",
   "execution_count": 52,
   "metadata": {
    "id": "collected-lender"
   },
   "outputs": [
    {
     "name": "stdout",
     "output_type": "stream",
     "text": [
      "[0 1 2 3 4 5]\n"
     ]
    }
   ],
   "source": [
    "temp = y.ravel()\n",
    "print(temp)"
   ]
  },
  {
   "cell_type": "code",
   "execution_count": 53,
   "metadata": {
    "id": "fitted-guidance"
   },
   "outputs": [
    {
     "name": "stdout",
     "output_type": "stream",
     "text": [
      "[100   1   2   3   4   5]\n",
      "[[100   1   2]\n",
      " [  3   4   5]]\n"
     ]
    }
   ],
   "source": [
    "# 원본도 같이 변환\n",
    "temp[0] = 100\n",
    "print(temp)\n",
    "print(y)"
   ]
  },
  {
   "cell_type": "markdown",
   "metadata": {
    "id": "ordinary-sitting"
   },
   "source": [
    "3. **`flatten`** : multi dim $\\rightarrow\\$ 1 dim"
   ]
  },
  {
   "cell_type": "code",
   "execution_count": 54,
   "metadata": {
    "id": "major-indicator"
   },
   "outputs": [
    {
     "data": {
      "text/plain": [
       "array([0, 1, 2, 3, 4, 5])"
      ]
     },
     "execution_count": 54,
     "metadata": {},
     "output_type": "execute_result"
    }
   ],
   "source": [
    "x = np.arange(0, 6)\n",
    "y = x.reshape(2, 3)\n",
    " \n",
    "y.flatten(order=\"C\") # row 기준 -> default"
   ]
  },
  {
   "cell_type": "code",
   "execution_count": 55,
   "metadata": {
    "id": "pressed-thumb"
   },
   "outputs": [
    {
     "data": {
      "text/plain": [
       "array([0, 3, 1, 4, 2, 5])"
      ]
     },
     "execution_count": 55,
     "metadata": {},
     "output_type": "execute_result"
    }
   ],
   "source": [
    "y.flatten(order=\"F\") # column 기준"
   ]
  },
  {
   "cell_type": "code",
   "execution_count": 56,
   "metadata": {
    "id": "convenient-passport"
   },
   "outputs": [
    {
     "name": "stdout",
     "output_type": "stream",
     "text": [
      "[0 1 2 3 4 5]\n"
     ]
    }
   ],
   "source": [
    "temp2 = y.flatten()\n",
    "print(temp2)"
   ]
  },
  {
   "cell_type": "code",
   "execution_count": 57,
   "metadata": {
    "id": "incoming-macedonia"
   },
   "outputs": [
    {
     "name": "stdout",
     "output_type": "stream",
     "text": [
      "[100   1   2   3   4   5]\n",
      "[[0 1 2]\n",
      " [3 4 5]]\n"
     ]
    }
   ],
   "source": [
    "# 원본은 그대로 (flatten은 원본의 \"복사본\"을 return)\n",
    "temp2[0] = 100\n",
    "\n",
    "print(temp2)\n",
    "print(y)"
   ]
  },
  {
   "cell_type": "markdown",
   "metadata": {
    "id": "adjacent-elevation"
   },
   "source": [
    "## 5. `numpy` 기본 함수"
   ]
  },
  {
   "cell_type": "code",
   "execution_count": 58,
   "metadata": {
    "id": "corresponding-encyclopedia"
   },
   "outputs": [
    {
     "name": "stdout",
     "output_type": "stream",
     "text": [
      "[[0 1 2]\n",
      " [3 4 5]\n",
      " [6 7 8]]\n",
      "[[0.37454012 0.95071431 0.73199394]\n",
      " [0.59865848 0.15601864 0.15599452]\n",
      " [0.05808361 0.86617615 0.60111501]]\n"
     ]
    }
   ],
   "source": [
    "np.random.seed(42)\n",
    " \n",
    "x = np.arange(9).reshape(3, 3)\n",
    "y = np.random.rand(9).reshape(3, 3)\n",
    "print(x)\n",
    "print(y)"
   ]
  },
  {
   "cell_type": "code",
   "execution_count": 59,
   "metadata": {
    "id": "christian-superior"
   },
   "outputs": [
    {
     "data": {
      "text/plain": [
       "array([[0.37454012, 1.95071431, 2.73199394],\n",
       "       [3.59865848, 4.15601864, 5.15599452],\n",
       "       [6.05808361, 7.86617615, 8.60111501]])"
      ]
     },
     "execution_count": 59,
     "metadata": {},
     "output_type": "execute_result"
    }
   ],
   "source": [
    "np.add(x, y) # element-wise"
   ]
  },
  {
   "cell_type": "code",
   "execution_count": 60,
   "metadata": {
    "id": "hazardous-monkey"
   },
   "outputs": [
    {
     "data": {
      "text/plain": [
       "array([[0.37454012, 1.95071431, 2.73199394],\n",
       "       [3.59865848, 4.15601864, 5.15599452],\n",
       "       [6.05808361, 7.86617615, 8.60111501]])"
      ]
     },
     "execution_count": 60,
     "metadata": {},
     "output_type": "execute_result"
    }
   ],
   "source": [
    "x + y"
   ]
  },
  {
   "cell_type": "code",
   "execution_count": 61,
   "metadata": {
    "id": "equipped-perspective"
   },
   "outputs": [
    {
     "data": {
      "text/plain": [
       "array([[-0.37454012,  0.04928569,  1.26800606],\n",
       "       [ 2.40134152,  3.84398136,  4.84400548],\n",
       "       [ 5.94191639,  6.13382385,  7.39888499]])"
      ]
     },
     "execution_count": 61,
     "metadata": {},
     "output_type": "execute_result"
    }
   ],
   "source": [
    "np.subtract(x, y)"
   ]
  },
  {
   "cell_type": "code",
   "execution_count": 62,
   "metadata": {
    "id": "rough-chapel"
   },
   "outputs": [
    {
     "data": {
      "text/plain": [
       "array([[-0.37454012,  0.04928569,  1.26800606],\n",
       "       [ 2.40134152,  3.84398136,  4.84400548],\n",
       "       [ 5.94191639,  6.13382385,  7.39888499]])"
      ]
     },
     "execution_count": 62,
     "metadata": {},
     "output_type": "execute_result"
    }
   ],
   "source": [
    "x - y"
   ]
  },
  {
   "cell_type": "markdown",
   "metadata": {
    "id": "soviet-angel"
   },
   "source": [
    "2. **multiply** & **divide** "
   ]
  },
  {
   "cell_type": "code",
   "execution_count": 63,
   "metadata": {
    "id": "passive-bandwidth"
   },
   "outputs": [
    {
     "data": {
      "text/plain": [
       "array([[0.        , 0.95071431, 1.46398788],\n",
       "       [1.79597545, 0.62407456, 0.7799726 ],\n",
       "       [0.34850167, 6.06323302, 4.80892009]])"
      ]
     },
     "execution_count": 63,
     "metadata": {},
     "output_type": "execute_result"
    }
   ],
   "source": [
    "np.multiply(x, y)"
   ]
  },
  {
   "cell_type": "code",
   "execution_count": 64,
   "metadata": {
    "id": "expensive-stick"
   },
   "outputs": [
    {
     "data": {
      "text/plain": [
       "array([[0.        , 0.95071431, 1.46398788],\n",
       "       [1.79597545, 0.62407456, 0.7799726 ],\n",
       "       [0.34850167, 6.06323302, 4.80892009]])"
      ]
     },
     "execution_count": 64,
     "metadata": {},
     "output_type": "execute_result"
    }
   ],
   "source": [
    "x * y"
   ]
  },
  {
   "cell_type": "code",
   "execution_count": 65,
   "metadata": {
    "id": "vital-grass"
   },
   "outputs": [
    {
     "data": {
      "text/plain": [
       "array([[  0.        ,   1.0518407 ,   2.73226305],\n",
       "       [  5.01120435,  25.63796216,  32.05240793],\n",
       "       [103.29936063,   8.08149709,  13.30860126]])"
      ]
     },
     "execution_count": 65,
     "metadata": {},
     "output_type": "execute_result"
    }
   ],
   "source": [
    "np.divide(x, y)\n",
    "                ## check x[0,1]/y[0,1]"
   ]
  },
  {
   "cell_type": "code",
   "execution_count": 66,
   "metadata": {
    "id": "dependent-masters"
   },
   "outputs": [
    {
     "data": {
      "text/plain": [
       "array([[  0.        ,   1.0518407 ,   2.73226305],\n",
       "       [  5.01120435,  25.63796216,  32.05240793],\n",
       "       [103.29936063,   8.08149709,  13.30860126]])"
      ]
     },
     "execution_count": 66,
     "metadata": {},
     "output_type": "execute_result"
    }
   ],
   "source": [
    "x / y"
   ]
  },
  {
   "cell_type": "markdown",
   "metadata": {
    "id": "descending-garlic"
   },
   "source": [
    "3. **mean** & **variance**"
   ]
  },
  {
   "cell_type": "code",
   "execution_count": 67,
   "metadata": {
    "id": "instant-majority"
   },
   "outputs": [
    {
     "data": {
      "text/plain": [
       "4.0"
      ]
     },
     "execution_count": 67,
     "metadata": {},
     "output_type": "execute_result"
    }
   ],
   "source": [
    "np.mean(x)"
   ]
  },
  {
   "cell_type": "code",
   "execution_count": 68,
   "metadata": {
    "id": "athletic-internet"
   },
   "outputs": [
    {
     "data": {
      "text/plain": [
       "4.0"
      ]
     },
     "execution_count": 68,
     "metadata": {},
     "output_type": "execute_result"
    }
   ],
   "source": [
    "x.mean()"
   ]
  },
  {
   "cell_type": "code",
   "execution_count": 69,
   "metadata": {
    "id": "mature-toolbox"
   },
   "outputs": [
    {
     "data": {
      "text/plain": [
       "6.666666666666667"
      ]
     },
     "execution_count": 69,
     "metadata": {},
     "output_type": "execute_result"
    }
   ],
   "source": [
    "np.var(x)"
   ]
  },
  {
   "cell_type": "code",
   "execution_count": 70,
   "metadata": {
    "id": "growing-producer"
   },
   "outputs": [
    {
     "data": {
      "text/plain": [
       "2.581988897471611"
      ]
     },
     "execution_count": 70,
     "metadata": {},
     "output_type": "execute_result"
    }
   ],
   "source": [
    "np.std(x) \n",
    "         ## check np.sqrt(np.var(x))"
   ]
  },
  {
   "cell_type": "markdown",
   "metadata": {
    "id": "empty-characteristic"
   },
   "source": [
    "4. **min** & **max** & **median**"
   ]
  },
  {
   "cell_type": "code",
   "execution_count": 71,
   "metadata": {
    "id": "developmental-variable"
   },
   "outputs": [
    {
     "data": {
      "text/plain": [
       "0.05808361216819946"
      ]
     },
     "execution_count": 71,
     "metadata": {},
     "output_type": "execute_result"
    }
   ],
   "source": [
    "np.min(y)"
   ]
  },
  {
   "cell_type": "code",
   "execution_count": 72,
   "metadata": {
    "id": "comparable-domestic"
   },
   "outputs": [
    {
     "data": {
      "text/plain": [
       "0.9507143064099162"
      ]
     },
     "execution_count": 72,
     "metadata": {},
     "output_type": "execute_result"
    }
   ],
   "source": [
    "np.max(y)"
   ]
  },
  {
   "cell_type": "code",
   "execution_count": 73,
   "metadata": {
    "id": "impressive-bailey"
   },
   "outputs": [
    {
     "data": {
      "text/plain": [
       "0.5986584841970366"
      ]
     },
     "execution_count": 73,
     "metadata": {},
     "output_type": "execute_result"
    }
   ],
   "source": [
    "np.median(y)"
   ]
  },
  {
   "cell_type": "markdown",
   "metadata": {
    "id": "charming-given"
   },
   "source": [
    "5. **sum** & **cumsum**"
   ]
  },
  {
   "cell_type": "code",
   "execution_count": 74,
   "metadata": {
    "id": "apart-default"
   },
   "outputs": [
    {
     "data": {
      "text/plain": [
       "4.493294781730703"
      ]
     },
     "execution_count": 74,
     "metadata": {},
     "output_type": "execute_result"
    }
   ],
   "source": [
    "np.sum(y, axis=None)"
   ]
  },
  {
   "cell_type": "code",
   "execution_count": 75,
   "metadata": {
    "id": "persistent-singles"
   },
   "outputs": [
    {
     "data": {
      "text/plain": [
       "array([0.37454012, 1.32525443, 2.05724837, 2.65590685, 2.81192549,\n",
       "       2.96792001, 3.02600362, 3.89217977, 4.49329478])"
      ]
     },
     "execution_count": 75,
     "metadata": {},
     "output_type": "execute_result"
    }
   ],
   "source": [
    "np.cumsum(y)"
   ]
  },
  {
   "cell_type": "code",
   "execution_count": 76,
   "metadata": {
    "id": "empty-boards"
   },
   "outputs": [
    {
     "data": {
      "text/plain": [
       "array([[ 0,  1,  2],\n",
       "       [ 3,  5,  7],\n",
       "       [ 9, 12, 15]], dtype=int32)"
      ]
     },
     "execution_count": 76,
     "metadata": {},
     "output_type": "execute_result"
    }
   ],
   "source": [
    "np.cumsum(x, axis=0) # column끼리 누적합"
   ]
  },
  {
   "cell_type": "code",
   "execution_count": 77,
   "metadata": {
    "id": "continuous-wyoming"
   },
   "outputs": [
    {
     "data": {
      "text/plain": [
       "array([[ 0,  1,  3],\n",
       "       [ 3,  7, 12],\n",
       "       [ 6, 13, 21]], dtype=int32)"
      ]
     },
     "execution_count": 77,
     "metadata": {},
     "output_type": "execute_result"
    }
   ],
   "source": [
    "np.cumsum(x, axis=1) # row끼리 누적합"
   ]
  },
  {
   "cell_type": "markdown",
   "metadata": {
    "id": "fiscal-eligibility"
   },
   "source": [
    "6. **any** & **all** & **where**"
   ]
  },
  {
   "cell_type": "markdown",
   "metadata": {
    "id": "public-latvia"
   },
   "source": [
    "> any : 특정 조건을 만족하는 것이 적어도 하나 이상 존재하면 `True`, 아니면 `False`  \n",
    "all : 모든 원소가 특정 조건을 만족한다면 `True`, 아니면 `False`  \n",
    "where : 특정 조건을 만족하는 원소만 선택"
   ]
  },
  {
   "cell_type": "code",
   "execution_count": 78,
   "metadata": {
    "id": "liked-morris"
   },
   "outputs": [
    {
     "name": "stdout",
     "output_type": "stream",
     "text": [
      "[ 0.49671415 -0.1382643   0.64768854  1.52302986 -0.23415337]\n"
     ]
    }
   ],
   "source": [
    "np.random.seed(42)\n",
    "\n",
    "z = np.random.randn(5)\n",
    "print(z)"
   ]
  },
  {
   "cell_type": "code",
   "execution_count": 79,
   "metadata": {
    "id": "developed-checkout"
   },
   "outputs": [
    {
     "data": {
      "text/plain": [
       "True"
      ]
     },
     "execution_count": 79,
     "metadata": {},
     "output_type": "execute_result"
    }
   ],
   "source": [
    "np.any(z > 0)"
   ]
  },
  {
   "cell_type": "code",
   "execution_count": 80,
   "metadata": {
    "id": "closed-welsh"
   },
   "outputs": [
    {
     "data": {
      "text/plain": [
       "False"
      ]
     },
     "execution_count": 80,
     "metadata": {},
     "output_type": "execute_result"
    }
   ],
   "source": [
    "np.all(z < 0)"
   ]
  },
  {
   "cell_type": "code",
   "execution_count": 81,
   "metadata": {
    "id": "authentic-dressing"
   },
   "outputs": [
    {
     "data": {
      "text/plain": [
       "array([0.49671415, 0.        , 0.64768854, 1.52302986, 0.        ])"
      ]
     },
     "execution_count": 81,
     "metadata": {},
     "output_type": "execute_result"
    }
   ],
   "source": [
    "np.where(z > 0, z, 0) "
   ]
  },
  {
   "cell_type": "markdown",
   "metadata": {
    "id": "passive-bumper"
   },
   "source": [
    "## 6. axis"
   ]
  },
  {
   "cell_type": "code",
   "execution_count": 82,
   "metadata": {
    "id": "interpreted-summer"
   },
   "outputs": [],
   "source": [
    "x = np.arange(12)"
   ]
  },
  {
   "cell_type": "markdown",
   "metadata": {
    "id": "valued-college"
   },
   "source": [
    "1. **1-D**"
   ]
  },
  {
   "cell_type": "code",
   "execution_count": 83,
   "metadata": {
    "id": "brave-hammer"
   },
   "outputs": [
    {
     "name": "stdout",
     "output_type": "stream",
     "text": [
      "[ 0  1  2  3  4  5  6  7  8  9 10 11] \n",
      " (12,)\n"
     ]
    }
   ],
   "source": [
    "print(x, \"\\n\", x.shape)"
   ]
  },
  {
   "cell_type": "code",
   "execution_count": 84,
   "metadata": {
    "id": "transsexual-trademark"
   },
   "outputs": [
    {
     "data": {
      "text/plain": [
       "66"
      ]
     },
     "execution_count": 84,
     "metadata": {},
     "output_type": "execute_result"
    }
   ],
   "source": [
    "np.sum(x, axis=0)"
   ]
  },
  {
   "cell_type": "markdown",
   "metadata": {
    "id": "brave-dodge"
   },
   "source": [
    "```python\n",
    "# error\n",
    "np.sum(x, axis=1)\n",
    "```\n",
    "\n",
    "*결과 : axis 1 is out of bounds for array of dimension 1*"
   ]
  },
  {
   "cell_type": "markdown",
   "metadata": {
    "id": "incoming-virgin"
   },
   "source": [
    "2. **2-D**"
   ]
  },
  {
   "cell_type": "code",
   "execution_count": 85,
   "metadata": {
    "id": "scientific-combine"
   },
   "outputs": [
    {
     "name": "stdout",
     "output_type": "stream",
     "text": [
      "[[ 0  1  2  3]\n",
      " [ 4  5  6  7]\n",
      " [ 8  9 10 11]]\n"
     ]
    }
   ],
   "source": [
    "x2 = x.reshape(3, 4)\n",
    "\n",
    "print(x2)"
   ]
  },
  {
   "cell_type": "code",
   "execution_count": 86,
   "metadata": {
    "id": "clean-symbol"
   },
   "outputs": [
    {
     "data": {
      "text/plain": [
       "array([12, 15, 18, 21])"
      ]
     },
     "execution_count": 86,
     "metadata": {},
     "output_type": "execute_result"
    }
   ],
   "source": [
    "np.sum(x2, axis=0) # column"
   ]
  },
  {
   "cell_type": "code",
   "execution_count": 87,
   "metadata": {
    "id": "brief-speaker"
   },
   "outputs": [
    {
     "data": {
      "text/plain": [
       "array([ 6, 22, 38])"
      ]
     },
     "execution_count": 87,
     "metadata": {},
     "output_type": "execute_result"
    }
   ],
   "source": [
    "np.sum(x2, axis=1) # row"
   ]
  },
  {
   "cell_type": "markdown",
   "metadata": {
    "id": "adjusted-street"
   },
   "source": [
    "3. **3-D**"
   ]
  },
  {
   "cell_type": "code",
   "execution_count": 88,
   "metadata": {
    "id": "considerable-fantasy"
   },
   "outputs": [
    {
     "name": "stdout",
     "output_type": "stream",
     "text": [
      "[[[ 0  1]\n",
      "  [ 2  3]\n",
      "  [ 4  5]]\n",
      "\n",
      " [[ 6  7]\n",
      "  [ 8  9]\n",
      "  [10 11]]]\n"
     ]
    }
   ],
   "source": [
    "x3 = x.reshape(2, 3, 2)\n",
    "\n",
    "print(x3)"
   ]
  },
  {
   "cell_type": "code",
   "execution_count": 89,
   "metadata": {
    "id": "absent-hawaiian"
   },
   "outputs": [
    {
     "data": {
      "text/plain": [
       "array([[ 6,  8],\n",
       "       [10, 12],\n",
       "       [14, 16]])"
      ]
     },
     "execution_count": 89,
     "metadata": {},
     "output_type": "execute_result"
    }
   ],
   "source": [
    "np.sum(x3, axis=0)\n",
    "                    ## [[ 0+6, 1+7],\n",
    "                    ##  [ 2+8, 3+9],\n",
    "                    ##  [ 4+10, 5+11]]"
   ]
  },
  {
   "cell_type": "code",
   "execution_count": 90,
   "metadata": {
    "id": "stable-survivor"
   },
   "outputs": [
    {
     "data": {
      "text/plain": [
       "array([[ 6,  9],\n",
       "       [24, 27]])"
      ]
     },
     "execution_count": 90,
     "metadata": {},
     "output_type": "execute_result"
    }
   ],
   "source": [
    "np.sum(x3, axis=1)\n",
    "                    ## [[ 0+2+4, 1+3+5],\n",
    "                    ##  [ 6+8+10, 7+9+11]]"
   ]
  },
  {
   "cell_type": "code",
   "execution_count": 91,
   "metadata": {
    "id": "complex-trauma"
   },
   "outputs": [
    {
     "data": {
      "text/plain": [
       "array([[ 1,  5,  9],\n",
       "       [13, 17, 21]])"
      ]
     },
     "execution_count": 91,
     "metadata": {},
     "output_type": "execute_result"
    }
   ],
   "source": [
    "np.sum(x3, axis=2)\n",
    "                    ## [[ 0+1, 2+3, 4+5],\n",
    "                    ##  [ 6+7, 8+9, 10+11]]"
   ]
  },
  {
   "cell_type": "markdown",
   "metadata": {
    "id": "spoken-audience"
   },
   "source": [
    "+) axis가 **tuple**일 때, 제시된 모든 axis에 대하여 연산"
   ]
  },
  {
   "cell_type": "code",
   "execution_count": 92,
   "metadata": {
    "id": "packed-nickname"
   },
   "outputs": [
    {
     "data": {
      "text/plain": [
       "array([14, 22, 30])"
      ]
     },
     "execution_count": 92,
     "metadata": {},
     "output_type": "execute_result"
    }
   ],
   "source": [
    "np.sum(x3, axis=(0, 2))\n",
    "                    ## [ 0+1+6+7, 2+3+8+9, 4+5+10+11 ]"
   ]
  },
  {
   "cell_type": "markdown",
   "metadata": {
    "id": "together-banner"
   },
   "source": [
    "## 7. Broadcasting\n",
    "\n",
    "more detail : [guide](https://numpy.org/doc/stable/user/basics.broadcasting.html)\n",
    "\n",
    "> **what it takes to broadcasting** : between arrays of different, but *compatible shapes*  \n",
    "( $\\rightarrow\\$ shape이 같거나 차원이 1인 array가 있는 경우)"
   ]
  },
  {
   "cell_type": "code",
   "execution_count": 93,
   "metadata": {
    "id": "least-uncertainty"
   },
   "outputs": [
    {
     "name": "stdout",
     "output_type": "stream",
     "text": [
      "a :\n",
      " [1 2 3] \n",
      " b :\n",
      " [4 5 6] \n",
      " c :\n",
      " [4 5 6 7] \n",
      " d :\n",
      " [[0 1 2]\n",
      " [3 4 5]\n",
      " [6 7 8]] \n",
      " e :\n",
      " [[[ 0  1  2]\n",
      "  [ 3  4  5]\n",
      "  [ 6  7  8]]\n",
      "\n",
      " [[ 9 10 11]\n",
      "  [12 13 14]\n",
      "  [15 16 17]]]\n"
     ]
    }
   ],
   "source": [
    "a = np.array([1, 2, 3])\n",
    "b = np.array([4, 5, 6])\n",
    "c = np.array([4, 5, 6, 7])\n",
    "d = np.arange(9).reshape(3, 3)\n",
    "e = np.arange(18).reshape(2, 3, 3)\n",
    "\n",
    "print(\"a :\\n\", a, \"\\n b :\\n\", b, \"\\n c :\\n\", c, \"\\n d :\\n\", d, \"\\n e :\\n\", e)"
   ]
  },
  {
   "cell_type": "markdown",
   "metadata": {
    "id": "associate-setup"
   },
   "source": [
    "* same shape"
   ]
  },
  {
   "cell_type": "code",
   "execution_count": 94,
   "metadata": {
    "id": "simple-freeze"
   },
   "outputs": [
    {
     "data": {
      "text/plain": [
       "array([5, 7, 9])"
      ]
     },
     "execution_count": 94,
     "metadata": {},
     "output_type": "execute_result"
    }
   ],
   "source": [
    "a + b"
   ]
  },
  {
   "cell_type": "markdown",
   "metadata": {
    "id": "maritime-synthesis"
   },
   "source": [
    "```python\n",
    "# if\n",
    "a + c\n",
    "\n",
    "# then, ValueError: operands could not be broadcast together with shapes (3,) (4,) \n",
    "```"
   ]
  },
  {
   "cell_type": "markdown",
   "metadata": {
    "id": "organic-wednesday"
   },
   "source": [
    "* different, but compatible shape"
   ]
  },
  {
   "cell_type": "code",
   "execution_count": 95,
   "metadata": {
    "id": "floating-appeal"
   },
   "outputs": [
    {
     "data": {
      "text/plain": [
       "array([[ 1,  3,  5],\n",
       "       [ 4,  6,  8],\n",
       "       [ 7,  9, 11]])"
      ]
     },
     "execution_count": 95,
     "metadata": {},
     "output_type": "execute_result"
    }
   ],
   "source": [
    "a + d\n",
    "        # shape of a : (3, ) -> (1, 3) -> (3, 3)\n",
    "        # finally, a :\n",
    "        ##             [[1, 2, 3],\n",
    "        ##              [1, 2, 3],\n",
    "        ##              [1, 2, 3]]  "
   ]
  },
  {
   "cell_type": "code",
   "execution_count": 96,
   "metadata": {
    "id": "handled-nigeria"
   },
   "outputs": [
    {
     "data": {
      "text/plain": [
       "array([[[ 1,  3,  5],\n",
       "        [ 4,  6,  8],\n",
       "        [ 7,  9, 11]],\n",
       "\n",
       "       [[10, 12, 14],\n",
       "        [13, 15, 17],\n",
       "        [16, 18, 20]]])"
      ]
     },
     "execution_count": 96,
     "metadata": {},
     "output_type": "execute_result"
    }
   ],
   "source": [
    "a + e\n",
    "        # shape of a : (3, ) -> (1, 3) -> (1, 1, 3) -> (1, 3, 3) -> (2, 3, 3)"
   ]
  },
  {
   "cell_type": "markdown",
   "metadata": {
    "id": "ceramic-skiing"
   },
   "source": [
    "## 8. Boolean indexing"
   ]
  },
  {
   "cell_type": "code",
   "execution_count": 97,
   "metadata": {
    "id": "negative-philippines"
   },
   "outputs": [
    {
     "name": "stdout",
     "output_type": "stream",
     "text": [
      "[52 93 15 72 61 21 83 87 75 75]\n"
     ]
    }
   ],
   "source": [
    "np.random.seed(42)\n",
    "\n",
    "x = np.random.randint(1, 100, size=10)\n",
    "print(x)"
   ]
  },
  {
   "cell_type": "markdown",
   "metadata": {
    "id": "resident-eagle"
   },
   "source": [
    "* True인 경우만 filtering"
   ]
  },
  {
   "cell_type": "markdown",
   "metadata": {
    "id": "compressed-catholic"
   },
   "source": [
    "ex 1)"
   ]
  },
  {
   "cell_type": "code",
   "execution_count": 98,
   "metadata": {
    "id": "romance-upset"
   },
   "outputs": [
    {
     "name": "stdout",
     "output_type": "stream",
     "text": [
      "[ True False False  True False False False False False False]\n"
     ]
    }
   ],
   "source": [
    "even_mask = x % 2 == 0\n",
    "            # [0, 1, 1, 0, 1, 1, 1, 1, 1, 1]\n",
    "print(even_mask)"
   ]
  },
  {
   "cell_type": "code",
   "execution_count": 99,
   "metadata": {
    "id": "severe-pontiac"
   },
   "outputs": [
    {
     "data": {
      "text/plain": [
       "array([52, 72])"
      ]
     },
     "execution_count": 99,
     "metadata": {},
     "output_type": "execute_result"
    }
   ],
   "source": [
    "x[even_mask]"
   ]
  },
  {
   "cell_type": "code",
   "execution_count": 100,
   "metadata": {
    "id": "excited-breathing"
   },
   "outputs": [
    {
     "data": {
      "text/plain": [
       "array([52, 72])"
      ]
     },
     "execution_count": 100,
     "metadata": {},
     "output_type": "execute_result"
    }
   ],
   "source": [
    "x[x % 2 == 0]"
   ]
  },
  {
   "cell_type": "markdown",
   "metadata": {
    "id": "statistical-queen"
   },
   "source": [
    "ex 2)"
   ]
  },
  {
   "cell_type": "code",
   "execution_count": 101,
   "metadata": {
    "id": "neural-television"
   },
   "outputs": [
    {
     "data": {
      "text/plain": [
       "array([52, 61])"
      ]
     },
     "execution_count": 101,
     "metadata": {},
     "output_type": "execute_result"
    }
   ],
   "source": [
    "x[(x > 50) & (x < 70)]"
   ]
  },
  {
   "cell_type": "markdown",
   "metadata": {
    "id": "involved-liver"
   },
   "source": [
    "## 9. linalg"
   ]
  },
  {
   "cell_type": "markdown",
   "metadata": {
    "id": "chief-domestic"
   },
   "source": [
    "1. **`np.concatenate`**"
   ]
  },
  {
   "cell_type": "code",
   "execution_count": 102,
   "metadata": {
    "id": "cooperative-housing"
   },
   "outputs": [
    {
     "name": "stdout",
     "output_type": "stream",
     "text": [
      "[[0]\n",
      " [1]\n",
      " [2]\n",
      " [3]] \n",
      "\n",
      " [[1.]\n",
      " [1.]\n",
      " [1.]\n",
      " [1.]]\n"
     ]
    }
   ],
   "source": [
    "x1 = np.reshape(np.array(range(4)),[4,1])\n",
    "x0 = np.ones([4, 1])\n",
    "\n",
    "print(x1, \"\\n\\n\",x0)"
   ]
  },
  {
   "cell_type": "code",
   "execution_count": 115,
   "metadata": {
    "id": "visible-library"
   },
   "outputs": [
    {
     "name": "stdout",
     "output_type": "stream",
     "text": [
      "[[1.]\n",
      " [1.]\n",
      " [1.]\n",
      " [1.]\n",
      " [0.]\n",
      " [1.]\n",
      " [2.]\n",
      " [3.]]\n"
     ]
    }
   ],
   "source": [
    "xx = np.concatenate((x0, x1), axis=0)\n",
    "print(xx)"
   ]
  },
  {
   "cell_type": "code",
   "execution_count": 104,
   "metadata": {
    "id": "fixed-squad"
   },
   "outputs": [
    {
     "name": "stdout",
     "output_type": "stream",
     "text": [
      "[[1. 0.]\n",
      " [1. 1.]\n",
      " [1. 2.]\n",
      " [1. 3.]]\n"
     ]
    }
   ],
   "source": [
    "X = np.concatenate((x0, x1), axis=1)\n",
    "print(X)"
   ]
  },
  {
   "cell_type": "markdown",
   "metadata": {
    "id": "comprehensive-utility"
   },
   "source": [
    "2. **`np.dot`**"
   ]
  },
  {
   "cell_type": "code",
   "execution_count": 105,
   "metadata": {
    "id": "southeast-inspiration"
   },
   "outputs": [
    {
     "name": "stdout",
     "output_type": "stream",
     "text": [
      "[[5]\n",
      " [2]]\n"
     ]
    }
   ],
   "source": [
    "W = np.array([ [5], [2] ])\n",
    "\n",
    "print(W)"
   ]
  },
  {
   "cell_type": "code",
   "execution_count": 106,
   "metadata": {
    "id": "referenced-speaking"
   },
   "outputs": [
    {
     "data": {
      "text/plain": [
       "array([[ 5.],\n",
       "       [ 7.],\n",
       "       [ 9.],\n",
       "       [11.]])"
      ]
     },
     "execution_count": 106,
     "metadata": {},
     "output_type": "execute_result"
    }
   ],
   "source": [
    "np.dot(X, W)"
   ]
  },
  {
   "cell_type": "code",
   "execution_count": 107,
   "metadata": {
    "id": "compatible-plaintiff"
   },
   "outputs": [
    {
     "data": {
      "text/plain": [
       "array([[ 5.],\n",
       "       [ 7.],\n",
       "       [ 9.],\n",
       "       [11.]])"
      ]
     },
     "execution_count": 107,
     "metadata": {},
     "output_type": "execute_result"
    }
   ],
   "source": [
    "X.dot(W)"
   ]
  },
  {
   "cell_type": "markdown",
   "metadata": {
    "id": "dirty-execution"
   },
   "source": [
    "3. **`np.linalg.inv`**\n",
    "\n",
    "역행렬을 return하므로 **!!모든 차원의 값이 같은 array!!** 만 가능"
   ]
  },
  {
   "cell_type": "code",
   "execution_count": 108,
   "metadata": {
    "id": "objective-farmer"
   },
   "outputs": [
    {
     "data": {
      "text/plain": [
       "array([[-1.5,  0.5],\n",
       "       [ 1. ,  0. ]])"
      ]
     },
     "execution_count": 108,
     "metadata": {},
     "output_type": "execute_result"
    }
   ],
   "source": [
    "S = np.arange(4).reshape(2, 2) # square matrix\n",
    "\n",
    "np.linalg.inv(S)"
   ]
  },
  {
   "cell_type": "code",
   "execution_count": 109,
   "metadata": {
    "id": "empirical-homeless"
   },
   "outputs": [
    {
     "data": {
      "text/plain": [
       "array([[1., 0.],\n",
       "       [0., 1.]])"
      ]
     },
     "execution_count": 109,
     "metadata": {},
     "output_type": "execute_result"
    }
   ],
   "source": [
    "# check\n",
    "\n",
    "S.dot(np.linalg.inv(S)) # identity matrix"
   ]
  },
  {
   "cell_type": "markdown",
   "metadata": {
    "id": "senior-perth"
   },
   "source": [
    "+) 3차원 이상일 때, "
   ]
  },
  {
   "cell_type": "code",
   "execution_count": 110,
   "metadata": {
    "id": "subsequent-underwear"
   },
   "outputs": [
    {
     "name": "stdout",
     "output_type": "stream",
     "text": [
      "[[[0.86617615 0.60111501 0.70807258]\n",
      "  [0.02058449 0.96990985 0.83244264]\n",
      "  [0.21233911 0.18182497 0.18340451]]\n",
      "\n",
      " [[0.30424224 0.52475643 0.43194502]\n",
      "  [0.29122914 0.61185289 0.13949386]\n",
      "  [0.29214465 0.36636184 0.45606998]]\n",
      "\n",
      " [[0.78517596 0.19967378 0.51423444]\n",
      "  [0.59241457 0.04645041 0.60754485]\n",
      "  [0.17052412 0.06505159 0.94888554]]]\n"
     ]
    }
   ],
   "source": [
    "ss = np.random.rand(3, 3, 3)\n",
    "print(ss)"
   ]
  },
  {
   "cell_type": "code",
   "execution_count": 111,
   "metadata": {
    "id": "weighted-thriller"
   },
   "outputs": [
    {
     "data": {
      "text/plain": [
       "array([[[ 1.00000000e+00,  3.15450730e-17, -1.68032386e-16],\n",
       "        [ 2.74725926e-16,  1.00000000e+00, -2.65703298e-15],\n",
       "        [ 2.83539595e-16,  2.26618345e-17,  1.00000000e+00]],\n",
       "\n",
       "       [[ 1.00000000e+00, -3.08723574e-16, -7.58553850e-16],\n",
       "        [ 4.40046494e-17,  1.00000000e+00, -9.37290991e-16],\n",
       "        [-5.46130834e-16, -1.12266300e-16,  1.00000000e+00]],\n",
       "\n",
       "       [[ 1.00000000e+00,  2.10365417e-17, -4.20435877e-17],\n",
       "        [-5.68581919e-17,  1.00000000e+00, -1.32068872e-16],\n",
       "        [-5.03053920e-18, -1.78786144e-17,  1.00000000e+00]]])"
      ]
     },
     "execution_count": 111,
     "metadata": {},
     "output_type": "execute_result"
    }
   ],
   "source": [
    "np.matmul(ss, np.linalg.inv(ss))"
   ]
  },
  {
   "cell_type": "code",
   "execution_count": 112,
   "metadata": {
    "id": "radio-doctrine"
   },
   "outputs": [
    {
     "data": {
      "text/plain": [
       "array([[[ 1.00000000e+00,  3.15450730e-17, -1.68032386e-16],\n",
       "        [ 2.74725926e-16,  1.00000000e+00, -2.65703298e-15],\n",
       "        [ 2.83539595e-16,  2.26618345e-17,  1.00000000e+00]],\n",
       "\n",
       "       [[ 1.00000000e+00, -3.08723574e-16, -7.58553850e-16],\n",
       "        [ 4.40046494e-17,  1.00000000e+00, -9.37290991e-16],\n",
       "        [-5.46130834e-16, -1.12266300e-16,  1.00000000e+00]],\n",
       "\n",
       "       [[ 1.00000000e+00,  2.10365417e-17, -4.20435877e-17],\n",
       "        [-5.68581919e-17,  1.00000000e+00, -1.32068872e-16],\n",
       "        [-5.03053920e-18, -1.78786144e-17,  1.00000000e+00]]])"
      ]
     },
     "execution_count": 112,
     "metadata": {},
     "output_type": "execute_result"
    }
   ],
   "source": [
    "ss @ np.linalg.inv(ss)"
   ]
  },
  {
   "cell_type": "markdown",
   "metadata": {
    "id": "finite-sullivan"
   },
   "source": [
    "4. **`np.linalg.solve`**  \n",
    "\n",
    "연립 방정식 풀기"
   ]
  },
  {
   "cell_type": "markdown",
   "metadata": {
    "id": "perfect-organ"
   },
   "source": [
    "   - $x_0$ + $x_1$ = 25\n",
    "   - 3$x_0$ + 6$x_1$ = 64\n",
    "   \n",
    " $$\\begin{pmatrix} 1 & 1 \\\\ 3 & 6 \\end{pmatrix}\\begin{pmatrix} x_0 \\\\ x_1 \\end{pmatrix}= \\begin{pmatrix} 25 \\\\ 64 \\end{pmatrix}$$"
   ]
  },
  {
   "cell_type": "code",
   "execution_count": 113,
   "metadata": {
    "id": "proper-publication"
   },
   "outputs": [
    {
     "name": "stdout",
     "output_type": "stream",
     "text": [
      "[28.66666667 -3.66666667]\n"
     ]
    }
   ],
   "source": [
    "A = np.array([[1, 1], [3, 6]])\n",
    "B = np.array([25, 64])\n",
    "\n",
    "x = np.linalg.solve(A, B)\n",
    "print(x)"
   ]
  },
  {
   "cell_type": "code",
   "execution_count": 114,
   "metadata": {
    "id": "historic-amazon"
   },
   "outputs": [
    {
     "data": {
      "text/plain": [
       "True"
      ]
     },
     "execution_count": 114,
     "metadata": {},
     "output_type": "execute_result"
    }
   ],
   "source": [
    "# check\n",
    "np.allclose(A@x, B)"
   ]
  },
  {
   "cell_type": "code",
   "execution_count": null,
   "metadata": {},
   "outputs": [],
   "source": []
  }
 ],
 "metadata": {
  "colab": {
   "name": "[Euron] Python Seminar - numpy session for member.ipynb",
   "provenance": []
  },
  "kernelspec": {
   "display_name": "Python 3",
   "language": "python",
   "name": "python3"
  },
  "language_info": {
   "codemirror_mode": {
    "name": "ipython",
    "version": 3
   },
   "file_extension": ".py",
   "mimetype": "text/x-python",
   "name": "python",
   "nbconvert_exporter": "python",
   "pygments_lexer": "ipython3",
   "version": "3.8.3"
  }
 },
 "nbformat": 4,
 "nbformat_minor": 5
}
